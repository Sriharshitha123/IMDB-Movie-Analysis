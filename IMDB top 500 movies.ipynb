{
 "cells": [
  {
   "cell_type": "markdown",
   "id": "a46186c6",
   "metadata": {},
   "source": [
    "# IMDB top 500 movies"
   ]
  },
  {
   "cell_type": "markdown",
   "id": "4b07daba",
   "metadata": {},
   "source": [
    "## 1st page"
   ]
  },
  {
   "cell_type": "code",
   "execution_count": 1,
   "id": "85d19462",
   "metadata": {},
   "outputs": [],
   "source": [
    "from bs4 import BeautifulSoup as bs\n",
    "import requests\n",
    "\n",
    "url = 'https://www.imdb.com/search/title/?groups=top_1000&sort=user_rating,desc&count=100&ref_=adv_prv'\n",
    "\n",
    "page = requests.get(url)\n",
    "\n",
    "page_1 = bs(page.content, 'html5lib')\n",
    "\n"
   ]
  },
  {
   "cell_type": "code",
   "execution_count": 2,
   "id": "aa08c186",
   "metadata": {},
   "outputs": [],
   "source": [
    "page_1_titles = page_1.find_all(\"h3\",class_=\"lister-item-header\")\n",
    "\n",
    "titles_of_movies = []\n",
    "for title in page_1_titles:\n",
    "    titles=title.get_text(strip=True)\n",
    "    titles_of_movies.append(titles.split(\"(\")[0].split(\".\")[1])\n",
    "\n",
    "\n",
    "page_1_title = titles_of_movies"
   ]
  },
  {
   "cell_type": "code",
   "execution_count": 3,
   "id": "c2a1a0c6",
   "metadata": {
    "scrolled": true
   },
   "outputs": [
    {
     "data": {
      "text/plain": [
       "['The Shawshank Redemption',\n",
       " 'The Godfather',\n",
       " 'The Dark Knight',\n",
       " 'The Lord of the Rings: The Return of the King',\n",
       " \"Schindler's List\"]"
      ]
     },
     "execution_count": 3,
     "metadata": {},
     "output_type": "execute_result"
    }
   ],
   "source": [
    "titles_of_movies[:5]"
   ]
  },
  {
   "cell_type": "code",
   "execution_count": null,
   "id": "cabead40",
   "metadata": {},
   "outputs": [],
   "source": []
  },
  {
   "cell_type": "code",
   "execution_count": 4,
   "id": "dfaf88fc",
   "metadata": {},
   "outputs": [],
   "source": [
    "page_1_years = page_1.find_all(\"span\",class_=\"lister-item-year text-muted unbold\")\n",
    "\n",
    "years_of_movies = []\n",
    "for title in page_1_years:\n",
    "    titles=title.get_text(strip=True)\n",
    "    years_of_movies.append(titles.split(\"(\")[1].split(\")\")[0].replace('I','2000'))\n",
    "\n",
    "page_1_years = years_of_movies"
   ]
  },
  {
   "cell_type": "code",
   "execution_count": 5,
   "id": "5e004879",
   "metadata": {
    "scrolled": true
   },
   "outputs": [
    {
     "data": {
      "text/plain": [
       "['1994', '1972', '2008', '2003', '1993']"
      ]
     },
     "execution_count": 5,
     "metadata": {},
     "output_type": "execute_result"
    }
   ],
   "source": [
    "page_1_years[:5]"
   ]
  },
  {
   "cell_type": "code",
   "execution_count": null,
   "id": "255aa969",
   "metadata": {},
   "outputs": [],
   "source": []
  },
  {
   "cell_type": "code",
   "execution_count": 6,
   "id": "cee6d7ff",
   "metadata": {},
   "outputs": [],
   "source": [
    "page_1_ratings = page_1.find_all(\"div\",class_=\"inline-block ratings-imdb-rating\")\n",
    "\n",
    "rating_Colum = []\n",
    "for title in page_1_ratings:\n",
    "    rating=title.get_text(strip=True)\n",
    "    rating_Colum.append(rating.split()[:2])\n",
    "\n",
    "ini_list=rating_Colum\n",
    "\n",
    "flatten_list = [j for sub in ini_list for j in sub]\n",
    "\n",
    "Ratings = flatten_list"
   ]
  },
  {
   "cell_type": "code",
   "execution_count": 7,
   "id": "c87872ce",
   "metadata": {
    "scrolled": true
   },
   "outputs": [
    {
     "data": {
      "text/plain": [
       "['9.3', '9.2', '9.0', '9.0', '9.0']"
      ]
     },
     "execution_count": 7,
     "metadata": {},
     "output_type": "execute_result"
    }
   ],
   "source": [
    "Ratings[:5]"
   ]
  },
  {
   "cell_type": "code",
   "execution_count": null,
   "id": "ea7e14f7",
   "metadata": {},
   "outputs": [],
   "source": []
  },
  {
   "cell_type": "code",
   "execution_count": 8,
   "id": "6708224b",
   "metadata": {},
   "outputs": [
    {
     "data": {
      "text/plain": [
       "['142', '175', '152', '201', '195']"
      ]
     },
     "execution_count": 8,
     "metadata": {},
     "output_type": "execute_result"
    }
   ],
   "source": [
    "page_1_runtime = []\n",
    "all_ratings = page_1.find_all(\"span\",class_=\"runtime\")\n",
    "for rate in all_ratings:\n",
    "    rating=rate.get_text(strip=True)\n",
    "    page_1_runtime.append(rating[:3])\n",
    "\n",
    "page_1_runtime[:5]"
   ]
  },
  {
   "cell_type": "code",
   "execution_count": null,
   "id": "80c21c99",
   "metadata": {},
   "outputs": [],
   "source": []
  },
  {
   "cell_type": "code",
   "execution_count": 9,
   "id": "452018a8",
   "metadata": {},
   "outputs": [
    {
     "data": {
      "text/plain": [
       "['Votes:2,602,463|Gross:$28.34M|Top 250:#1',\n",
       " 'Votes:1,797,921|Gross:$134.97M|Top 250:#2',\n",
       " 'Votes:2,573,914|Gross:$534.86M|Top 250:#3',\n",
       " 'Votes:1,787,208|Gross:$377.85M|Top 250:#7',\n",
       " 'Votes:1,323,409|Gross:$96.90M|Top 250:#6']"
      ]
     },
     "execution_count": 9,
     "metadata": {},
     "output_type": "execute_result"
    }
   ],
   "source": [
    "info = []\n",
    "all_votes = page_1.find_all(\"p\",class_=\"sort-num_votes-visible\")\n",
    "for vt in all_votes:\n",
    "    vote=vt.get_text(strip=True)\n",
    "    info.append(vote[:] )#.replace('|','').replace(',','')\n",
    "\n",
    "info[:5]\n"
   ]
  },
  {
   "cell_type": "code",
   "execution_count": null,
   "id": "057c06f7",
   "metadata": {},
   "outputs": [],
   "source": []
  },
  {
   "cell_type": "code",
   "execution_count": 10,
   "id": "cb9120fb",
   "metadata": {},
   "outputs": [
    {
     "data": {
      "text/plain": [
       "['260246', '179792', '257391', '178720', '132340']"
      ]
     },
     "execution_count": 10,
     "metadata": {},
     "output_type": "execute_result"
    }
   ],
   "source": [
    "page_1_votes = []\n",
    "all_votes = page_1.find_all(\"p\",class_=\"sort-num_votes-visible\")\n",
    "for vt in all_votes:\n",
    "    vote=vt.get_text(strip=True)\n",
    "    page_1_votes.append(vote[6:14].replace('|','').replace(',','').replace('G','').replace('T',''))\n",
    "\n",
    "page_1_votes[:5]"
   ]
  },
  {
   "cell_type": "code",
   "execution_count": null,
   "id": "7011730e",
   "metadata": {},
   "outputs": [],
   "source": []
  },
  {
   "cell_type": "markdown",
   "id": "0882b687",
   "metadata": {},
   "source": [
    "## 2nd page"
   ]
  },
  {
   "cell_type": "code",
   "execution_count": 11,
   "id": "f94d893e",
   "metadata": {},
   "outputs": [],
   "source": [
    "from bs4 import BeautifulSoup as bs\n",
    "import requests\n",
    "\n",
    "url = 'https://www.imdb.com/search/title/?groups=top_1000&sort=user_rating,desc&count=100&start=101&ref_=adv_nxt'\n",
    "\n",
    "page = requests.get(url)\n",
    "\n",
    "page_2 = bs(page.content, 'html5lib')\n"
   ]
  },
  {
   "cell_type": "code",
   "execution_count": 12,
   "id": "894224a3",
   "metadata": {},
   "outputs": [],
   "source": [
    "page_2_titles = page_2.find_all(\"h3\",class_=\"lister-item-header\")\n",
    "\n",
    "titles_of_movies_2 = []\n",
    "for title in page_2_titles:\n",
    "    titles=title.get_text(strip=True)\n",
    "    titles_of_movies_2.append(titles.split(\"(\")[0].split(\".\")[1])\n",
    "\n",
    "\n",
    "page_2_title = titles_of_movies_2"
   ]
  },
  {
   "cell_type": "code",
   "execution_count": 13,
   "id": "aa833932",
   "metadata": {},
   "outputs": [],
   "source": [
    "page_2_years = page_2.find_all(\"span\",class_=\"lister-item-year text-muted unbold\")\n",
    "\n",
    "years_of_movies_2 = []\n",
    "for title in page_2_years:\n",
    "    titles=title.get_text(strip=True)\n",
    "    years_of_movies_2.append(titles.split(\"(\")[1].split(\")\")[0].replace('I','2000'))\n",
    "\n",
    "page_2_years = years_of_movies_2"
   ]
  },
  {
   "cell_type": "code",
   "execution_count": null,
   "id": "78579329",
   "metadata": {},
   "outputs": [],
   "source": []
  },
  {
   "cell_type": "code",
   "execution_count": 14,
   "id": "b07b102b",
   "metadata": {},
   "outputs": [],
   "source": [
    "page_2_ratings = page_2.find_all(\"div\",class_=\"inline-block ratings-imdb-rating\")\n",
    "\n",
    "rating_Colum_2 = []\n",
    "for title in page_1_ratings:\n",
    "    rating=title.get_text(strip=True)\n",
    "    rating_Colum_2.append(rating.split()[:2])\n",
    "\n",
    "ini_list=rating_Colum_2\n",
    "\n",
    "flatten_list = [j for sub in ini_list for j in sub]\n",
    "\n",
    "Ratings_2 = flatten_list"
   ]
  },
  {
   "cell_type": "code",
   "execution_count": null,
   "id": "2700e2b0",
   "metadata": {},
   "outputs": [],
   "source": []
  },
  {
   "cell_type": "code",
   "execution_count": 15,
   "id": "02c88556",
   "metadata": {},
   "outputs": [
    {
     "data": {
      "text/plain": [
       "['148', '96 ', '165', '103', '153']"
      ]
     },
     "execution_count": 15,
     "metadata": {},
     "output_type": "execute_result"
    }
   ],
   "source": [
    "page_2_runtime = []\n",
    "all_ratings = page_2.find_all(\"span\",class_=\"runtime\")\n",
    "for rate in all_ratings:\n",
    "    rating=rate.get_text(strip=True)\n",
    "    page_2_runtime.append(rating[:3])\n",
    "\n",
    "page_2_runtime[:5]"
   ]
  },
  {
   "cell_type": "code",
   "execution_count": 16,
   "id": "4a34c56a",
   "metadata": {},
   "outputs": [
    {
     "data": {
      "text/plain": [
       "['663041', '101972', '189536', '818607', '140341']"
      ]
     },
     "execution_count": 16,
     "metadata": {},
     "output_type": "execute_result"
    }
   ],
   "source": [
    "page_2_votes = []\n",
    "all_votes = page_2.find_all(\"p\",class_=\"sort-num_votes-visible\")\n",
    "for vt in all_votes:\n",
    "    vote=vt.get_text(strip=True)\n",
    "    page_2_votes.append(vote[6:14].replace('|','').replace(',','').replace('T','').replace('G',''))\n",
    "\n",
    "page_2_votes[:5]"
   ]
  },
  {
   "cell_type": "code",
   "execution_count": null,
   "id": "a66b6f88",
   "metadata": {},
   "outputs": [],
   "source": []
  },
  {
   "cell_type": "markdown",
   "id": "5b056cdc",
   "metadata": {},
   "source": [
    "## 3rd page"
   ]
  },
  {
   "cell_type": "code",
   "execution_count": 17,
   "id": "ece49dbe",
   "metadata": {},
   "outputs": [],
   "source": [
    "from bs4 import BeautifulSoup as bs\n",
    "import requests\n",
    "\n",
    "url = 'https://www.imdb.com/search/title/?groups=top_1000&sort=user_rating,desc&count=100&start=301&ref_=adv_nxt'\n",
    "\n",
    "page = requests.get(url)\n",
    "\n",
    "page_3 = bs(page.content, 'html5lib')\n"
   ]
  },
  {
   "cell_type": "code",
   "execution_count": 18,
   "id": "3d2ddf45",
   "metadata": {},
   "outputs": [],
   "source": [
    "page_3_titles = page_3.find_all(\"h3\",class_=\"lister-item-header\")\n",
    "\n",
    "titles_of_movies_3 = []\n",
    "for title in page_3_titles:\n",
    "    titles=title.get_text(strip=True)\n",
    "    titles_of_movies_3.append(titles.split(\"(\")[0].split(\".\")[1])\n",
    "\n",
    "\n",
    "page_3_title = titles_of_movies_3"
   ]
  },
  {
   "cell_type": "code",
   "execution_count": 19,
   "id": "fb6376ac",
   "metadata": {},
   "outputs": [],
   "source": [
    "page_3_years = page_3.find_all(\"span\",class_=\"lister-item-year text-muted unbold\")\n",
    "\n",
    "years_of_movies_3 = []\n",
    "for title in page_3_years:\n",
    "    titles=title.get_text(strip=True)\n",
    "    years_of_movies_3.append(titles.split(\"(\")[1].split(\")\")[0].replace('I','2000'))\n",
    "\n",
    "page_3_years = years_of_movies_3"
   ]
  },
  {
   "cell_type": "code",
   "execution_count": 20,
   "id": "feac253d",
   "metadata": {},
   "outputs": [],
   "source": [
    "page_3_ratings = page_3.find_all(\"div\",class_=\"inline-block ratings-imdb-rating\")\n",
    "\n",
    "rating_Colum_3 = []\n",
    "for title in page_3_ratings:\n",
    "    rating=title.get_text(strip=True)\n",
    "    rating_Colum_3.append(rating.split()[:2])\n",
    "\n",
    "ini_list=rating_Colum_3\n",
    "\n",
    "flatten_list = [j for sub in ini_list for j in sub]\n",
    "\n",
    "Ratings_3 = flatten_list"
   ]
  },
  {
   "cell_type": "code",
   "execution_count": null,
   "id": "eb1e7f2a",
   "metadata": {},
   "outputs": [],
   "source": []
  },
  {
   "cell_type": "code",
   "execution_count": 21,
   "id": "47921c82",
   "metadata": {},
   "outputs": [
    {
     "data": {
      "text/plain": [
       "['127', '85 ', '172', '121', '123']"
      ]
     },
     "execution_count": 21,
     "metadata": {},
     "output_type": "execute_result"
    }
   ],
   "source": [
    "page_3_runtime = []\n",
    "all_ratings = page_3.find_all(\"span\",class_=\"runtime\")\n",
    "for rate in all_ratings:\n",
    "    rating=rate.get_text(strip=True)\n",
    "    page_3_runtime.append(rating[:3])\n",
    "\n",
    "page_3_runtime[:5]"
   ]
  },
  {
   "cell_type": "code",
   "execution_count": 22,
   "id": "343205f9",
   "metadata": {},
   "outputs": [
    {
     "data": {
      "text/plain": [
       "['175191', '116403', '228658', '59450', '75365']"
      ]
     },
     "execution_count": 22,
     "metadata": {},
     "output_type": "execute_result"
    }
   ],
   "source": [
    "page_3_votes = []\n",
    "all_votes = page_3.find_all(\"p\",class_=\"sort-num_votes-visible\")\n",
    "for vt in all_votes:\n",
    "    vote=vt.get_text(strip=True)\n",
    "    page_3_votes.append(vote[6:14].replace('|','').replace(',','').replace('G',''))\n",
    "\n",
    "page_3_votes[:5]"
   ]
  },
  {
   "cell_type": "code",
   "execution_count": null,
   "id": "21227c54",
   "metadata": {},
   "outputs": [],
   "source": []
  },
  {
   "cell_type": "markdown",
   "id": "0370de6e",
   "metadata": {},
   "source": [
    "## 4th page"
   ]
  },
  {
   "cell_type": "code",
   "execution_count": 23,
   "id": "710a34dc",
   "metadata": {},
   "outputs": [],
   "source": [
    "from bs4 import BeautifulSoup as bs\n",
    "import requests\n",
    "\n",
    "url = 'https://www.imdb.com/search/title/?groups=top_1000&sort=user_rating,desc&count=100&start=401&ref_=adv_nxt'\n",
    "\n",
    "page = requests.get(url)\n",
    "\n",
    "page_4 = bs(page.content, 'html5lib')"
   ]
  },
  {
   "cell_type": "code",
   "execution_count": 24,
   "id": "3fb08580",
   "metadata": {},
   "outputs": [],
   "source": [
    "page_4_titles = page_4.find_all(\"h3\",class_=\"lister-item-header\")\n",
    "\n",
    "titles_of_movies_4 = []\n",
    "for title in page_4_titles:\n",
    "    titles=title.get_text(strip=True)\n",
    "    titles_of_movies_4.append(titles.split(\"(\")[0].split(\".\")[1])\n",
    "\n",
    "\n",
    "page_4_title = titles_of_movies_4"
   ]
  },
  {
   "cell_type": "code",
   "execution_count": 25,
   "id": "bb0df8cc",
   "metadata": {},
   "outputs": [],
   "source": [
    "page_4_years = page_4.find_all(\"span\",class_=\"lister-item-year text-muted unbold\")\n",
    "\n",
    "years_of_movies_4 = []\n",
    "for title in page_4_years:\n",
    "    titles=title.get_text(strip=True)\n",
    "    years_of_movies_4.append(titles.split(\"(\")[1].split(\")\")[0].replace('I','2000'))\n",
    "\n",
    "page_4_years = years_of_movies_4"
   ]
  },
  {
   "cell_type": "code",
   "execution_count": 26,
   "id": "4198ec26",
   "metadata": {},
   "outputs": [],
   "source": [
    "page_4_ratings = page_4.find_all(\"div\",class_=\"inline-block ratings-imdb-rating\")\n",
    "\n",
    "rating_Colum_4 = []\n",
    "for title in page_4_ratings:\n",
    "    rating=title.get_text(strip=True)\n",
    "    rating_Colum_4.append(rating.split()[:2])\n",
    "\n",
    "ini_list=rating_Colum_4\n",
    "\n",
    "flatten_list = [j for sub in ini_list for j in sub]\n",
    "\n",
    "Ratings_4 = flatten_list"
   ]
  },
  {
   "cell_type": "code",
   "execution_count": null,
   "id": "9cb708ce",
   "metadata": {},
   "outputs": [],
   "source": []
  },
  {
   "cell_type": "code",
   "execution_count": 27,
   "id": "ad5cd053",
   "metadata": {},
   "outputs": [
    {
     "data": {
      "text/plain": [
       "['156', '90 ', '189', '84 ', '181']"
      ]
     },
     "execution_count": 27,
     "metadata": {},
     "output_type": "execute_result"
    }
   ],
   "source": [
    "page_4_runtime = []\n",
    "all_ratings = page_4.find_all(\"span\",class_=\"runtime\")\n",
    "for rate in all_ratings:\n",
    "    rating=rate.get_text(strip=True)\n",
    "    page_4_runtime.append(rating[:3])\n",
    "\n",
    "page_4_runtime[:5]"
   ]
  },
  {
   "cell_type": "code",
   "execution_count": 28,
   "id": "745557e7",
   "metadata": {},
   "outputs": [
    {
     "data": {
      "text/plain": [
       "['290543', '407086', '154174', '445958', '262045']"
      ]
     },
     "execution_count": 28,
     "metadata": {},
     "output_type": "execute_result"
    }
   ],
   "source": [
    "page_4_votes = []\n",
    "all_votes = page_4.find_all(\"p\",class_=\"sort-num_votes-visible\")\n",
    "for vt in all_votes:\n",
    "    vote=vt.get_text(strip=True)\n",
    "    page_4_votes.append(vote[6:14].replace('|','').replace(',','').replace('G',''))\n",
    "\n",
    "page_4_votes[:5]"
   ]
  },
  {
   "cell_type": "code",
   "execution_count": null,
   "id": "b0fa6908",
   "metadata": {},
   "outputs": [],
   "source": []
  },
  {
   "cell_type": "markdown",
   "id": "c12a6861",
   "metadata": {},
   "source": [
    "# 5th page"
   ]
  },
  {
   "cell_type": "code",
   "execution_count": 29,
   "id": "a61d2d4e",
   "metadata": {},
   "outputs": [],
   "source": [
    "from bs4 import BeautifulSoup as bs\n",
    "import requests\n",
    "\n",
    "url = 'https://www.imdb.com/search/title/?groups=top_1000&sort=user_rating,desc&count=100&start=501&ref_=adv_nx5'\n",
    "\n",
    "page = requests.get(url)\n",
    "\n",
    "page_5 = bs(page.content, 'html5lib')\n",
    "\n",
    "page_5_titles = page_5.find_all(\"h3\",class_=\"lister-item-header\")\n",
    "\n",
    "titles_of_movies_5 = []\n",
    "for title in page_5_titles:\n",
    "    titles=title.get_text(strip=True)\n",
    "    titles_of_movies_5.append(titles.split(\"(\")[0].split(\".\")[1])\n",
    "\n",
    "\n",
    "page_5_title = titles_of_movies_5\n",
    "\n",
    "page_5_years = page_5.find_all(\"span\",class_=\"lister-item-year text-muted unbold\")\n",
    "\n",
    "years_of_movies_5 = []\n",
    "for title in page_5_years:\n",
    "    titles=title.get_text(strip=True)\n",
    "    years_of_movies_5.append(titles.split(\"(\")[1].split(\")\")[0].replace('I','2000'))\n",
    "\n",
    "page_5_years = years_of_movies_5\n",
    "\n",
    "page_5_ratings = page_5.find_all(\"div\",class_=\"inline-block ratings-imdb-rating\")\n",
    "\n",
    "rating_Colum_5 = []\n",
    "for title in page_5_ratings:\n",
    "    rating=title.get_text(strip=True)\n",
    "    rating_Colum_5.append(rating.split()[:2])\n",
    "\n",
    "ini_list=rating_Colum_5\n",
    "\n",
    "flatten_list = [j for sub in ini_list for j in sub]\n",
    "\n",
    "Ratings_5 = flatten_list"
   ]
  },
  {
   "cell_type": "code",
   "execution_count": 30,
   "id": "60ec9a9e",
   "metadata": {},
   "outputs": [
    {
     "data": {
      "text/plain": [
       "['87 ', '141', '127', '87 ', '88 ']"
      ]
     },
     "execution_count": 30,
     "metadata": {},
     "output_type": "execute_result"
    }
   ],
   "source": [
    "page_5_runtime = []\n",
    "trash = []\n",
    "all_ratings = page_5.find_all(\"span\",class_=\"runtime\")\n",
    "for rate in all_ratings:\n",
    "    rating=rate.get_text(strip=True)\n",
    "    page_5_runtime.append(rating[:3])\n",
    "    \n",
    "\n",
    "page_5_runtime[:5]"
   ]
  },
  {
   "cell_type": "code",
   "execution_count": 31,
   "id": "27f37fe1",
   "metadata": {
    "scrolled": true
   },
   "outputs": [
    {
     "data": {
      "text/plain": [
       "['185712', '161854', '619671', '226470', '54811']"
      ]
     },
     "execution_count": 31,
     "metadata": {},
     "output_type": "execute_result"
    }
   ],
   "source": [
    "page_5_votes = []\n",
    "all_votes = page_5.find_all(\"p\",class_=\"sort-num_votes-visible\")\n",
    "for vt in all_votes:\n",
    "    vote=vt.get_text(strip=True)\n",
    "    page_5_votes.append(vote[6:14].replace('|','').replace(',','').replace('G',''))\n",
    "\n",
    "page_5_votes[:5]"
   ]
  },
  {
   "cell_type": "code",
   "execution_count": null,
   "id": "9f55c734",
   "metadata": {},
   "outputs": [],
   "source": []
  },
  {
   "cell_type": "markdown",
   "id": "629d8a89",
   "metadata": {},
   "source": [
    "# Dataframe section"
   ]
  },
  {
   "cell_type": "code",
   "execution_count": 32,
   "id": "38dcf071",
   "metadata": {},
   "outputs": [],
   "source": [
    "# import required libraries \n",
    "import pandas as pd\n",
    "import numpy as np"
   ]
  },
  {
   "cell_type": "code",
   "execution_count": 33,
   "id": "bb4d1251",
   "metadata": {},
   "outputs": [
    {
     "data": {
      "text/html": [
       "<div>\n",
       "<style scoped>\n",
       "    .dataframe tbody tr th:only-of-type {\n",
       "        vertical-align: middle;\n",
       "    }\n",
       "\n",
       "    .dataframe tbody tr th {\n",
       "        vertical-align: top;\n",
       "    }\n",
       "\n",
       "    .dataframe thead th {\n",
       "        text-align: right;\n",
       "    }\n",
       "</style>\n",
       "<table border=\"1\" class=\"dataframe\">\n",
       "  <thead>\n",
       "    <tr style=\"text-align: right;\">\n",
       "      <th></th>\n",
       "      <th>Titles of movies</th>\n",
       "      <th>Release year of movie</th>\n",
       "      <th>Ratings</th>\n",
       "      <th>Run time</th>\n",
       "      <th>Votes</th>\n",
       "    </tr>\n",
       "  </thead>\n",
       "  <tbody>\n",
       "    <tr>\n",
       "      <th>0</th>\n",
       "      <td>The Shawshank Redemption</td>\n",
       "      <td>1994</td>\n",
       "      <td>9.3</td>\n",
       "      <td>142</td>\n",
       "      <td>260246</td>\n",
       "    </tr>\n",
       "    <tr>\n",
       "      <th>1</th>\n",
       "      <td>The Godfather</td>\n",
       "      <td>1972</td>\n",
       "      <td>9.2</td>\n",
       "      <td>175</td>\n",
       "      <td>179792</td>\n",
       "    </tr>\n",
       "    <tr>\n",
       "      <th>2</th>\n",
       "      <td>The Dark Knight</td>\n",
       "      <td>2008</td>\n",
       "      <td>9.0</td>\n",
       "      <td>152</td>\n",
       "      <td>257391</td>\n",
       "    </tr>\n",
       "    <tr>\n",
       "      <th>3</th>\n",
       "      <td>The Lord of the Rings: The Return of the King</td>\n",
       "      <td>2003</td>\n",
       "      <td>9.0</td>\n",
       "      <td>201</td>\n",
       "      <td>178720</td>\n",
       "    </tr>\n",
       "    <tr>\n",
       "      <th>4</th>\n",
       "      <td>Schindler's List</td>\n",
       "      <td>1993</td>\n",
       "      <td>9.0</td>\n",
       "      <td>195</td>\n",
       "      <td>132340</td>\n",
       "    </tr>\n",
       "    <tr>\n",
       "      <th>...</th>\n",
       "      <td>...</td>\n",
       "      <td>...</td>\n",
       "      <td>...</td>\n",
       "      <td>...</td>\n",
       "      <td>...</td>\n",
       "    </tr>\n",
       "    <tr>\n",
       "      <th>95</th>\n",
       "      <td>Dangal</td>\n",
       "      <td>2016</td>\n",
       "      <td>8.3</td>\n",
       "      <td>161</td>\n",
       "      <td>184485</td>\n",
       "    </tr>\n",
       "    <tr>\n",
       "      <th>96</th>\n",
       "      <td>Drishyam</td>\n",
       "      <td>2013</td>\n",
       "      <td>8.3</td>\n",
       "      <td>160</td>\n",
       "      <td>40632</td>\n",
       "    </tr>\n",
       "    <tr>\n",
       "      <th>97</th>\n",
       "      <td>Jagten</td>\n",
       "      <td>2012</td>\n",
       "      <td>8.3</td>\n",
       "      <td>115</td>\n",
       "      <td>321691</td>\n",
       "    </tr>\n",
       "    <tr>\n",
       "      <th>98</th>\n",
       "      <td>Jodaeiye Nader az Simin</td>\n",
       "      <td>2011</td>\n",
       "      <td>8.3</td>\n",
       "      <td>123</td>\n",
       "      <td>242213</td>\n",
       "    </tr>\n",
       "    <tr>\n",
       "      <th>99</th>\n",
       "      <td>Incendies</td>\n",
       "      <td>2010</td>\n",
       "      <td>8.3</td>\n",
       "      <td>131</td>\n",
       "      <td>173276</td>\n",
       "    </tr>\n",
       "  </tbody>\n",
       "</table>\n",
       "<p>100 rows × 5 columns</p>\n",
       "</div>"
      ],
      "text/plain": [
       "                                 Titles of movies Release year of movie  \\\n",
       "0                        The Shawshank Redemption                  1994   \n",
       "1                                   The Godfather                  1972   \n",
       "2                                 The Dark Knight                  2008   \n",
       "3   The Lord of the Rings: The Return of the King                  2003   \n",
       "4                                Schindler's List                  1993   \n",
       "..                                            ...                   ...   \n",
       "95                                         Dangal                  2016   \n",
       "96                                       Drishyam                  2013   \n",
       "97                                         Jagten                  2012   \n",
       "98                        Jodaeiye Nader az Simin                  2011   \n",
       "99                                      Incendies                  2010   \n",
       "\n",
       "   Ratings Run time   Votes  \n",
       "0      9.3      142  260246  \n",
       "1      9.2      175  179792  \n",
       "2      9.0      152  257391  \n",
       "3      9.0      201  178720  \n",
       "4      9.0      195  132340  \n",
       "..     ...      ...     ...  \n",
       "95     8.3      161  184485  \n",
       "96     8.3      160   40632  \n",
       "97     8.3      115  321691  \n",
       "98     8.3      123  242213  \n",
       "99     8.3      131  173276  \n",
       "\n",
       "[100 rows x 5 columns]"
      ]
     },
     "execution_count": 33,
     "metadata": {},
     "output_type": "execute_result"
    }
   ],
   "source": [
    "page_1_df = pd.DataFrame({'Titles of movies':(page_1_title), 'Release year of movie':(page_1_years), 'Ratings': (Ratings), 'Run time': (page_1_runtime), 'Votes': (page_1_votes)})\n",
    "\n",
    "page_1_df"
   ]
  },
  {
   "cell_type": "code",
   "execution_count": 34,
   "id": "184b168c",
   "metadata": {},
   "outputs": [
    {
     "data": {
      "text/html": [
       "<div>\n",
       "<style scoped>\n",
       "    .dataframe tbody tr th:only-of-type {\n",
       "        vertical-align: middle;\n",
       "    }\n",
       "\n",
       "    .dataframe tbody tr th {\n",
       "        vertical-align: top;\n",
       "    }\n",
       "\n",
       "    .dataframe thead th {\n",
       "        text-align: right;\n",
       "    }\n",
       "</style>\n",
       "<table border=\"1\" class=\"dataframe\">\n",
       "  <thead>\n",
       "    <tr style=\"text-align: right;\">\n",
       "      <th></th>\n",
       "      <th>Titles of movies</th>\n",
       "      <th>Release year of movie</th>\n",
       "      <th>Ratings</th>\n",
       "      <th>Run time</th>\n",
       "      <th>Votes</th>\n",
       "    </tr>\n",
       "  </thead>\n",
       "  <tbody>\n",
       "    <tr>\n",
       "      <th>0</th>\n",
       "      <td>Spider-Man: No Way Home</td>\n",
       "      <td>2021</td>\n",
       "      <td>9.3</td>\n",
       "      <td>148</td>\n",
       "      <td>663041</td>\n",
       "    </tr>\n",
       "    <tr>\n",
       "      <th>1</th>\n",
       "      <td>Up</td>\n",
       "      <td>2009</td>\n",
       "      <td>9.2</td>\n",
       "      <td>96</td>\n",
       "      <td>101972</td>\n",
       "    </tr>\n",
       "    <tr>\n",
       "      <th>2</th>\n",
       "      <td>Taare Zameen Par</td>\n",
       "      <td>2007</td>\n",
       "      <td>9.0</td>\n",
       "      <td>165</td>\n",
       "      <td>189536</td>\n",
       "    </tr>\n",
       "    <tr>\n",
       "      <th>3</th>\n",
       "      <td>Toy Story 3</td>\n",
       "      <td>2010</td>\n",
       "      <td>9.0</td>\n",
       "      <td>103</td>\n",
       "      <td>818607</td>\n",
       "    </tr>\n",
       "    <tr>\n",
       "      <th>4</th>\n",
       "      <td>Inglourious Basterds</td>\n",
       "      <td>2009</td>\n",
       "      <td>9.0</td>\n",
       "      <td>153</td>\n",
       "      <td>140341</td>\n",
       "    </tr>\n",
       "    <tr>\n",
       "      <th>...</th>\n",
       "      <td>...</td>\n",
       "      <td>...</td>\n",
       "      <td>...</td>\n",
       "      <td>...</td>\n",
       "      <td>...</td>\n",
       "    </tr>\n",
       "    <tr>\n",
       "      <th>95</th>\n",
       "      <td>Umberto D</td>\n",
       "      <td>1952</td>\n",
       "      <td>8.3</td>\n",
       "      <td>89</td>\n",
       "      <td>25643</td>\n",
       "    </tr>\n",
       "    <tr>\n",
       "      <th>96</th>\n",
       "      <td>Rashômon</td>\n",
       "      <td>1950</td>\n",
       "      <td>8.3</td>\n",
       "      <td>88</td>\n",
       "      <td>166187</td>\n",
       "    </tr>\n",
       "    <tr>\n",
       "      <th>97</th>\n",
       "      <td>All About Eve</td>\n",
       "      <td>1950</td>\n",
       "      <td>8.3</td>\n",
       "      <td>138</td>\n",
       "      <td>130014</td>\n",
       "    </tr>\n",
       "    <tr>\n",
       "      <th>98</th>\n",
       "      <td>The Treasure of the Sierra Madre</td>\n",
       "      <td>1948</td>\n",
       "      <td>8.3</td>\n",
       "      <td>126</td>\n",
       "      <td>123580</td>\n",
       "    </tr>\n",
       "    <tr>\n",
       "      <th>99</th>\n",
       "      <td>To Be or Not to Be</td>\n",
       "      <td>1942</td>\n",
       "      <td>8.3</td>\n",
       "      <td>99</td>\n",
       "      <td>36405</td>\n",
       "    </tr>\n",
       "  </tbody>\n",
       "</table>\n",
       "<p>100 rows × 5 columns</p>\n",
       "</div>"
      ],
      "text/plain": [
       "                    Titles of movies Release year of movie Ratings Run time  \\\n",
       "0            Spider-Man: No Way Home                  2021     9.3      148   \n",
       "1                                 Up                  2009     9.2      96    \n",
       "2                   Taare Zameen Par                  2007     9.0      165   \n",
       "3                        Toy Story 3                  2010     9.0      103   \n",
       "4               Inglourious Basterds                  2009     9.0      153   \n",
       "..                               ...                   ...     ...      ...   \n",
       "95                         Umberto D                  1952     8.3      89    \n",
       "96                          Rashômon                  1950     8.3      88    \n",
       "97                     All About Eve                  1950     8.3      138   \n",
       "98  The Treasure of the Sierra Madre                  1948     8.3      126   \n",
       "99                To Be or Not to Be                  1942     8.3      99    \n",
       "\n",
       "     Votes  \n",
       "0   663041  \n",
       "1   101972  \n",
       "2   189536  \n",
       "3   818607  \n",
       "4   140341  \n",
       "..     ...  \n",
       "95   25643  \n",
       "96  166187  \n",
       "97  130014  \n",
       "98  123580  \n",
       "99   36405  \n",
       "\n",
       "[100 rows x 5 columns]"
      ]
     },
     "execution_count": 34,
     "metadata": {},
     "output_type": "execute_result"
    }
   ],
   "source": [
    "page_2_df = pd.DataFrame({'Titles of movies':(page_2_title), 'Release year of movie':(page_2_years), 'Ratings': (Ratings_2), 'Run time': (page_2_runtime), 'Votes': (page_2_votes)})\n",
    "\n",
    "page_2_df"
   ]
  },
  {
   "cell_type": "code",
   "execution_count": 35,
   "id": "4791ff13",
   "metadata": {},
   "outputs": [
    {
     "data": {
      "text/html": [
       "<div>\n",
       "<style scoped>\n",
       "    .dataframe tbody tr th:only-of-type {\n",
       "        vertical-align: middle;\n",
       "    }\n",
       "\n",
       "    .dataframe tbody tr th {\n",
       "        vertical-align: top;\n",
       "    }\n",
       "\n",
       "    .dataframe thead th {\n",
       "        text-align: right;\n",
       "    }\n",
       "</style>\n",
       "<table border=\"1\" class=\"dataframe\">\n",
       "  <thead>\n",
       "    <tr style=\"text-align: right;\">\n",
       "      <th></th>\n",
       "      <th>Titles of movies</th>\n",
       "      <th>Release year of movie</th>\n",
       "      <th>Ratings</th>\n",
       "      <th>Run time</th>\n",
       "      <th>Votes</th>\n",
       "    </tr>\n",
       "  </thead>\n",
       "  <tbody>\n",
       "    <tr>\n",
       "      <th>0</th>\n",
       "      <td>Cool Hand Luke</td>\n",
       "      <td>1967</td>\n",
       "      <td>8.1</td>\n",
       "      <td>127</td>\n",
       "      <td>175191</td>\n",
       "    </tr>\n",
       "    <tr>\n",
       "      <th>1</th>\n",
       "      <td>Persona</td>\n",
       "      <td>1966</td>\n",
       "      <td>8.1</td>\n",
       "      <td>85</td>\n",
       "      <td>116403</td>\n",
       "    </tr>\n",
       "    <tr>\n",
       "      <th>2</th>\n",
       "      <td>The Sound of Music</td>\n",
       "      <td>1965</td>\n",
       "      <td>8.1</td>\n",
       "      <td>172</td>\n",
       "      <td>228658</td>\n",
       "    </tr>\n",
       "    <tr>\n",
       "      <th>3</th>\n",
       "      <td>La battaglia di Algeri</td>\n",
       "      <td>1966</td>\n",
       "      <td>8.1</td>\n",
       "      <td>121</td>\n",
       "      <td>59450</td>\n",
       "    </tr>\n",
       "    <tr>\n",
       "      <th>4</th>\n",
       "      <td>The Man Who Shot Liberty Valance</td>\n",
       "      <td>1962</td>\n",
       "      <td>8.1</td>\n",
       "      <td>123</td>\n",
       "      <td>75365</td>\n",
       "    </tr>\n",
       "    <tr>\n",
       "      <th>...</th>\n",
       "      <td>...</td>\n",
       "      <td>...</td>\n",
       "      <td>...</td>\n",
       "      <td>...</td>\n",
       "      <td>...</td>\n",
       "    </tr>\n",
       "    <tr>\n",
       "      <th>95</th>\n",
       "      <td>Secrets &amp; Lies</td>\n",
       "      <td>1996</td>\n",
       "      <td>8.0</td>\n",
       "      <td>136</td>\n",
       "      <td>42953</td>\n",
       "    </tr>\n",
       "    <tr>\n",
       "      <th>96</th>\n",
       "      <td>Twelve Monkeys</td>\n",
       "      <td>1995</td>\n",
       "      <td>8.0</td>\n",
       "      <td>129</td>\n",
       "      <td>610737</td>\n",
       "    </tr>\n",
       "    <tr>\n",
       "      <th>97</th>\n",
       "      <td>Dilwale Dulhania Le Jayenge</td>\n",
       "      <td>1995</td>\n",
       "      <td>8.0</td>\n",
       "      <td>189</td>\n",
       "      <td>68597</td>\n",
       "    </tr>\n",
       "    <tr>\n",
       "      <th>98</th>\n",
       "      <td>Chung Hing sam lam</td>\n",
       "      <td>1994</td>\n",
       "      <td>8.0</td>\n",
       "      <td>102</td>\n",
       "      <td>78850</td>\n",
       "    </tr>\n",
       "    <tr>\n",
       "      <th>99</th>\n",
       "      <td>Andaz Apna Apna</td>\n",
       "      <td>1994</td>\n",
       "      <td>8.0</td>\n",
       "      <td>160</td>\n",
       "      <td>52990</td>\n",
       "    </tr>\n",
       "  </tbody>\n",
       "</table>\n",
       "<p>100 rows × 5 columns</p>\n",
       "</div>"
      ],
      "text/plain": [
       "                    Titles of movies Release year of movie Ratings Run time  \\\n",
       "0                     Cool Hand Luke                  1967     8.1      127   \n",
       "1                            Persona                  1966     8.1      85    \n",
       "2                 The Sound of Music                  1965     8.1      172   \n",
       "3             La battaglia di Algeri                  1966     8.1      121   \n",
       "4   The Man Who Shot Liberty Valance                  1962     8.1      123   \n",
       "..                               ...                   ...     ...      ...   \n",
       "95                    Secrets & Lies                  1996     8.0      136   \n",
       "96                    Twelve Monkeys                  1995     8.0      129   \n",
       "97       Dilwale Dulhania Le Jayenge                  1995     8.0      189   \n",
       "98                Chung Hing sam lam                  1994     8.0      102   \n",
       "99                   Andaz Apna Apna                  1994     8.0      160   \n",
       "\n",
       "     Votes  \n",
       "0   175191  \n",
       "1   116403  \n",
       "2   228658  \n",
       "3    59450  \n",
       "4    75365  \n",
       "..     ...  \n",
       "95   42953  \n",
       "96  610737  \n",
       "97   68597  \n",
       "98   78850  \n",
       "99   52990  \n",
       "\n",
       "[100 rows x 5 columns]"
      ]
     },
     "execution_count": 35,
     "metadata": {},
     "output_type": "execute_result"
    }
   ],
   "source": [
    "page_3_df = pd.DataFrame({'Titles of movies':(page_3_title), 'Release year of movie':(page_3_years), 'Ratings': (Ratings_3), 'Run time': (page_3_runtime), 'Votes': (page_3_votes)})\n",
    "\n",
    "page_3_df"
   ]
  },
  {
   "cell_type": "code",
   "execution_count": 36,
   "id": "e98c2b4c",
   "metadata": {},
   "outputs": [
    {
     "data": {
      "text/html": [
       "<div>\n",
       "<style scoped>\n",
       "    .dataframe tbody tr th:only-of-type {\n",
       "        vertical-align: middle;\n",
       "    }\n",
       "\n",
       "    .dataframe tbody tr th {\n",
       "        vertical-align: top;\n",
       "    }\n",
       "\n",
       "    .dataframe thead th {\n",
       "        text-align: right;\n",
       "    }\n",
       "</style>\n",
       "<table border=\"1\" class=\"dataframe\">\n",
       "  <thead>\n",
       "    <tr style=\"text-align: right;\">\n",
       "      <th></th>\n",
       "      <th>Titles of movies</th>\n",
       "      <th>Release year of movie</th>\n",
       "      <th>Ratings</th>\n",
       "      <th>Run time</th>\n",
       "      <th>Votes</th>\n",
       "    </tr>\n",
       "  </thead>\n",
       "  <tbody>\n",
       "    <tr>\n",
       "      <th>0</th>\n",
       "      <td>Scent of a Woman</td>\n",
       "      <td>1992</td>\n",
       "      <td>8.0</td>\n",
       "      <td>156</td>\n",
       "      <td>290543</td>\n",
       "    </tr>\n",
       "    <tr>\n",
       "      <th>1</th>\n",
       "      <td>Aladdin</td>\n",
       "      <td>1992</td>\n",
       "      <td>8.0</td>\n",
       "      <td>90</td>\n",
       "      <td>407086</td>\n",
       "    </tr>\n",
       "    <tr>\n",
       "      <th>2</th>\n",
       "      <td>JFK</td>\n",
       "      <td>1991</td>\n",
       "      <td>8.0</td>\n",
       "      <td>189</td>\n",
       "      <td>154174</td>\n",
       "    </tr>\n",
       "    <tr>\n",
       "      <th>3</th>\n",
       "      <td>Beauty and the Beast</td>\n",
       "      <td>1991</td>\n",
       "      <td>8.0</td>\n",
       "      <td>84</td>\n",
       "      <td>445958</td>\n",
       "    </tr>\n",
       "    <tr>\n",
       "      <th>4</th>\n",
       "      <td>Dances with Wolves</td>\n",
       "      <td>1990</td>\n",
       "      <td>8.0</td>\n",
       "      <td>181</td>\n",
       "      <td>262045</td>\n",
       "    </tr>\n",
       "    <tr>\n",
       "      <th>...</th>\n",
       "      <td>...</td>\n",
       "      <td>...</td>\n",
       "      <td>...</td>\n",
       "      <td>...</td>\n",
       "      <td>...</td>\n",
       "    </tr>\n",
       "    <tr>\n",
       "      <th>95</th>\n",
       "      <td>Verdens verste menneske</td>\n",
       "      <td>2021</td>\n",
       "      <td>7.9</td>\n",
       "      <td>128</td>\n",
       "      <td>48716</td>\n",
       "    </tr>\n",
       "    <tr>\n",
       "      <th>96</th>\n",
       "      <td>4 luni, 3 saptamâni si 2 zile</td>\n",
       "      <td>2007</td>\n",
       "      <td>7.9</td>\n",
       "      <td>113</td>\n",
       "      <td>59967</td>\n",
       "    </tr>\n",
       "    <tr>\n",
       "      <th>97</th>\n",
       "      <td>Star Trek</td>\n",
       "      <td>2009</td>\n",
       "      <td>7.9</td>\n",
       "      <td>127</td>\n",
       "      <td>599457</td>\n",
       "    </tr>\n",
       "    <tr>\n",
       "      <th>98</th>\n",
       "      <td>Dallas Buyers Club</td>\n",
       "      <td>2013</td>\n",
       "      <td>7.9</td>\n",
       "      <td>117</td>\n",
       "      <td>480131</td>\n",
       "    </tr>\n",
       "    <tr>\n",
       "      <th>99</th>\n",
       "      <td>In Bruges</td>\n",
       "      <td>2008</td>\n",
       "      <td>7.9</td>\n",
       "      <td>107</td>\n",
       "      <td>416406</td>\n",
       "    </tr>\n",
       "  </tbody>\n",
       "</table>\n",
       "<p>100 rows × 5 columns</p>\n",
       "</div>"
      ],
      "text/plain": [
       "                 Titles of movies Release year of movie Ratings Run time  \\\n",
       "0                Scent of a Woman                  1992     8.0      156   \n",
       "1                         Aladdin                  1992     8.0      90    \n",
       "2                             JFK                  1991     8.0      189   \n",
       "3            Beauty and the Beast                  1991     8.0      84    \n",
       "4              Dances with Wolves                  1990     8.0      181   \n",
       "..                            ...                   ...     ...      ...   \n",
       "95        Verdens verste menneske                  2021     7.9      128   \n",
       "96  4 luni, 3 saptamâni si 2 zile                  2007     7.9      113   \n",
       "97                      Star Trek                  2009     7.9      127   \n",
       "98             Dallas Buyers Club                  2013     7.9      117   \n",
       "99                      In Bruges                  2008     7.9      107   \n",
       "\n",
       "     Votes  \n",
       "0   290543  \n",
       "1   407086  \n",
       "2   154174  \n",
       "3   445958  \n",
       "4   262045  \n",
       "..     ...  \n",
       "95   48716  \n",
       "96   59967  \n",
       "97  599457  \n",
       "98  480131  \n",
       "99  416406  \n",
       "\n",
       "[100 rows x 5 columns]"
      ]
     },
     "execution_count": 36,
     "metadata": {},
     "output_type": "execute_result"
    }
   ],
   "source": [
    "page_4_df = pd.DataFrame({'Titles of movies':(page_4_title), 'Release year of movie':(page_4_years), 'Ratings': (Ratings_4), 'Run time': (page_4_runtime), 'Votes': (page_4_votes)})\n",
    "\n",
    "page_4_df"
   ]
  },
  {
   "cell_type": "code",
   "execution_count": null,
   "id": "ab3f9f0b",
   "metadata": {},
   "outputs": [],
   "source": []
  },
  {
   "cell_type": "code",
   "execution_count": 37,
   "id": "e2eb813f",
   "metadata": {},
   "outputs": [
    {
     "data": {
      "text/html": [
       "<div>\n",
       "<style scoped>\n",
       "    .dataframe tbody tr th:only-of-type {\n",
       "        vertical-align: middle;\n",
       "    }\n",
       "\n",
       "    .dataframe tbody tr th {\n",
       "        vertical-align: top;\n",
       "    }\n",
       "\n",
       "    .dataframe thead th {\n",
       "        text-align: right;\n",
       "    }\n",
       "</style>\n",
       "<table border=\"1\" class=\"dataframe\">\n",
       "  <thead>\n",
       "    <tr style=\"text-align: right;\">\n",
       "      <th></th>\n",
       "      <th>Titles of movies</th>\n",
       "      <th>Release year of movie</th>\n",
       "      <th>Ratings</th>\n",
       "      <th>Run time</th>\n",
       "      <th>Votes</th>\n",
       "    </tr>\n",
       "  </thead>\n",
       "  <tbody>\n",
       "    <tr>\n",
       "      <th>0</th>\n",
       "      <td>The Man from Earth</td>\n",
       "      <td>2007</td>\n",
       "      <td>7.9</td>\n",
       "      <td>87</td>\n",
       "      <td>185712</td>\n",
       "    </tr>\n",
       "    <tr>\n",
       "      <th>1</th>\n",
       "      <td>Letters from Iwo Jima</td>\n",
       "      <td>2006</td>\n",
       "      <td>7.9</td>\n",
       "      <td>141</td>\n",
       "      <td>161854</td>\n",
       "    </tr>\n",
       "    <tr>\n",
       "      <th>2</th>\n",
       "      <td>Life of Pi</td>\n",
       "      <td>2012</td>\n",
       "      <td>7.9</td>\n",
       "      <td>127</td>\n",
       "      <td>619671</td>\n",
       "    </tr>\n",
       "    <tr>\n",
       "      <th>3</th>\n",
       "      <td>Fantastic Mr</td>\n",
       "      <td>2009</td>\n",
       "      <td>7.9</td>\n",
       "      <td>87</td>\n",
       "      <td>226470</td>\n",
       "    </tr>\n",
       "    <tr>\n",
       "      <th>4</th>\n",
       "      <td>Bin-jip</td>\n",
       "      <td>2004</td>\n",
       "      <td>7.9</td>\n",
       "      <td>88</td>\n",
       "      <td>54811</td>\n",
       "    </tr>\n",
       "    <tr>\n",
       "      <th>...</th>\n",
       "      <td>...</td>\n",
       "      <td>...</td>\n",
       "      <td>...</td>\n",
       "      <td>...</td>\n",
       "      <td>...</td>\n",
       "    </tr>\n",
       "    <tr>\n",
       "      <th>95</th>\n",
       "      <td>Dunkirk</td>\n",
       "      <td>2017</td>\n",
       "      <td>7.8</td>\n",
       "      <td>106</td>\n",
       "      <td>637013</td>\n",
       "    </tr>\n",
       "    <tr>\n",
       "      <th>96</th>\n",
       "      <td>Hidden Figures</td>\n",
       "      <td>2016</td>\n",
       "      <td>7.8</td>\n",
       "      <td>127</td>\n",
       "      <td>224273</td>\n",
       "    </tr>\n",
       "    <tr>\n",
       "      <th>97</th>\n",
       "      <td>Hunt for the Wilderpeople</td>\n",
       "      <td>2016</td>\n",
       "      <td>7.8</td>\n",
       "      <td>101</td>\n",
       "      <td>128268</td>\n",
       "    </tr>\n",
       "    <tr>\n",
       "      <th>98</th>\n",
       "      <td>Paddington 2</td>\n",
       "      <td>2017</td>\n",
       "      <td>7.8</td>\n",
       "      <td>103</td>\n",
       "      <td>75088</td>\n",
       "    </tr>\n",
       "    <tr>\n",
       "      <th>99</th>\n",
       "      <td>Manchester by the Sea</td>\n",
       "      <td>2016</td>\n",
       "      <td>7.8</td>\n",
       "      <td>137</td>\n",
       "      <td>275780</td>\n",
       "    </tr>\n",
       "  </tbody>\n",
       "</table>\n",
       "<p>100 rows × 5 columns</p>\n",
       "</div>"
      ],
      "text/plain": [
       "             Titles of movies Release year of movie Ratings Run time   Votes\n",
       "0          The Man from Earth                  2007     7.9      87   185712\n",
       "1       Letters from Iwo Jima                  2006     7.9      141  161854\n",
       "2                  Life of Pi                  2012     7.9      127  619671\n",
       "3                Fantastic Mr                  2009     7.9      87   226470\n",
       "4                     Bin-jip                  2004     7.9      88    54811\n",
       "..                        ...                   ...     ...      ...     ...\n",
       "95                    Dunkirk                  2017     7.8      106  637013\n",
       "96             Hidden Figures                  2016     7.8      127  224273\n",
       "97  Hunt for the Wilderpeople                  2016     7.8      101  128268\n",
       "98               Paddington 2                  2017     7.8      103   75088\n",
       "99      Manchester by the Sea                  2016     7.8      137  275780\n",
       "\n",
       "[100 rows x 5 columns]"
      ]
     },
     "execution_count": 37,
     "metadata": {},
     "output_type": "execute_result"
    }
   ],
   "source": [
    "page_5_df = pd.DataFrame({'Titles of movies':(page_5_title), 'Release year of movie':(page_5_years), 'Ratings': (Ratings_5), 'Run time': (page_5_runtime), 'Votes': (page_5_votes)})\n",
    "\n",
    "page_5_df"
   ]
  },
  {
   "cell_type": "code",
   "execution_count": null,
   "id": "3313d105",
   "metadata": {},
   "outputs": [],
   "source": []
  },
  {
   "cell_type": "code",
   "execution_count": 38,
   "id": "e166f6b3",
   "metadata": {},
   "outputs": [],
   "source": [
    "frames = [page_1_df, page_2_df, page_3_df,page_4_df,page_5_df]\n",
    "\n",
    "IMDb = pd.concat(frames)"
   ]
  },
  {
   "cell_type": "code",
   "execution_count": 39,
   "id": "01ddd97b",
   "metadata": {},
   "outputs": [
    {
     "data": {
      "text/html": [
       "<div>\n",
       "<style scoped>\n",
       "    .dataframe tbody tr th:only-of-type {\n",
       "        vertical-align: middle;\n",
       "    }\n",
       "\n",
       "    .dataframe tbody tr th {\n",
       "        vertical-align: top;\n",
       "    }\n",
       "\n",
       "    .dataframe thead th {\n",
       "        text-align: right;\n",
       "    }\n",
       "</style>\n",
       "<table border=\"1\" class=\"dataframe\">\n",
       "  <thead>\n",
       "    <tr style=\"text-align: right;\">\n",
       "      <th></th>\n",
       "      <th>Titles of movies</th>\n",
       "      <th>Release year of movie</th>\n",
       "      <th>Ratings</th>\n",
       "      <th>Run time</th>\n",
       "      <th>Votes</th>\n",
       "    </tr>\n",
       "  </thead>\n",
       "  <tbody>\n",
       "    <tr>\n",
       "      <th>0</th>\n",
       "      <td>The Shawshank Redemption</td>\n",
       "      <td>1994</td>\n",
       "      <td>9.3</td>\n",
       "      <td>142</td>\n",
       "      <td>260246</td>\n",
       "    </tr>\n",
       "    <tr>\n",
       "      <th>1</th>\n",
       "      <td>The Godfather</td>\n",
       "      <td>1972</td>\n",
       "      <td>9.2</td>\n",
       "      <td>175</td>\n",
       "      <td>179792</td>\n",
       "    </tr>\n",
       "    <tr>\n",
       "      <th>2</th>\n",
       "      <td>The Dark Knight</td>\n",
       "      <td>2008</td>\n",
       "      <td>9.0</td>\n",
       "      <td>152</td>\n",
       "      <td>257391</td>\n",
       "    </tr>\n",
       "    <tr>\n",
       "      <th>3</th>\n",
       "      <td>The Lord of the Rings: The Return of the King</td>\n",
       "      <td>2003</td>\n",
       "      <td>9.0</td>\n",
       "      <td>201</td>\n",
       "      <td>178720</td>\n",
       "    </tr>\n",
       "    <tr>\n",
       "      <th>4</th>\n",
       "      <td>Schindler's List</td>\n",
       "      <td>1993</td>\n",
       "      <td>9.0</td>\n",
       "      <td>195</td>\n",
       "      <td>132340</td>\n",
       "    </tr>\n",
       "    <tr>\n",
       "      <th>...</th>\n",
       "      <td>...</td>\n",
       "      <td>...</td>\n",
       "      <td>...</td>\n",
       "      <td>...</td>\n",
       "      <td>...</td>\n",
       "    </tr>\n",
       "    <tr>\n",
       "      <th>95</th>\n",
       "      <td>Dunkirk</td>\n",
       "      <td>2017</td>\n",
       "      <td>7.8</td>\n",
       "      <td>106</td>\n",
       "      <td>637013</td>\n",
       "    </tr>\n",
       "    <tr>\n",
       "      <th>96</th>\n",
       "      <td>Hidden Figures</td>\n",
       "      <td>2016</td>\n",
       "      <td>7.8</td>\n",
       "      <td>127</td>\n",
       "      <td>224273</td>\n",
       "    </tr>\n",
       "    <tr>\n",
       "      <th>97</th>\n",
       "      <td>Hunt for the Wilderpeople</td>\n",
       "      <td>2016</td>\n",
       "      <td>7.8</td>\n",
       "      <td>101</td>\n",
       "      <td>128268</td>\n",
       "    </tr>\n",
       "    <tr>\n",
       "      <th>98</th>\n",
       "      <td>Paddington 2</td>\n",
       "      <td>2017</td>\n",
       "      <td>7.8</td>\n",
       "      <td>103</td>\n",
       "      <td>75088</td>\n",
       "    </tr>\n",
       "    <tr>\n",
       "      <th>99</th>\n",
       "      <td>Manchester by the Sea</td>\n",
       "      <td>2016</td>\n",
       "      <td>7.8</td>\n",
       "      <td>137</td>\n",
       "      <td>275780</td>\n",
       "    </tr>\n",
       "  </tbody>\n",
       "</table>\n",
       "<p>500 rows × 5 columns</p>\n",
       "</div>"
      ],
      "text/plain": [
       "                                 Titles of movies Release year of movie  \\\n",
       "0                        The Shawshank Redemption                  1994   \n",
       "1                                   The Godfather                  1972   \n",
       "2                                 The Dark Knight                  2008   \n",
       "3   The Lord of the Rings: The Return of the King                  2003   \n",
       "4                                Schindler's List                  1993   \n",
       "..                                            ...                   ...   \n",
       "95                                        Dunkirk                  2017   \n",
       "96                                 Hidden Figures                  2016   \n",
       "97                      Hunt for the Wilderpeople                  2016   \n",
       "98                                   Paddington 2                  2017   \n",
       "99                          Manchester by the Sea                  2016   \n",
       "\n",
       "   Ratings Run time   Votes  \n",
       "0      9.3      142  260246  \n",
       "1      9.2      175  179792  \n",
       "2      9.0      152  257391  \n",
       "3      9.0      201  178720  \n",
       "4      9.0      195  132340  \n",
       "..     ...      ...     ...  \n",
       "95     7.8      106  637013  \n",
       "96     7.8      127  224273  \n",
       "97     7.8      101  128268  \n",
       "98     7.8      103   75088  \n",
       "99     7.8      137  275780  \n",
       "\n",
       "[500 rows x 5 columns]"
      ]
     },
     "execution_count": 39,
     "metadata": {},
     "output_type": "execute_result"
    }
   ],
   "source": [
    "IMDb"
   ]
  },
  {
   "cell_type": "code",
   "execution_count": null,
   "id": "7df6c4dd",
   "metadata": {},
   "outputs": [],
   "source": []
  },
  {
   "cell_type": "markdown",
   "id": "cb41642b",
   "metadata": {},
   "source": [
    "# EDA on scrapped website "
   ]
  },
  {
   "cell_type": "code",
   "execution_count": 40,
   "id": "38eb45c5",
   "metadata": {},
   "outputs": [],
   "source": [
    "# import required library \n",
    "import warnings\n",
    "warnings.filterwarnings('ignore')\n",
    "import matplotlib.pyplot as plt\n",
    "import seaborn as sns\n",
    "%matplotlib inline"
   ]
  },
  {
   "cell_type": "markdown",
   "id": "2a01b4f8",
   "metadata": {},
   "source": [
    "## inspection of dataframes"
   ]
  },
  {
   "cell_type": "code",
   "execution_count": 41,
   "id": "51be7877",
   "metadata": {},
   "outputs": [
    {
     "data": {
      "text/html": [
       "<div>\n",
       "<style scoped>\n",
       "    .dataframe tbody tr th:only-of-type {\n",
       "        vertical-align: middle;\n",
       "    }\n",
       "\n",
       "    .dataframe tbody tr th {\n",
       "        vertical-align: top;\n",
       "    }\n",
       "\n",
       "    .dataframe thead th {\n",
       "        text-align: right;\n",
       "    }\n",
       "</style>\n",
       "<table border=\"1\" class=\"dataframe\">\n",
       "  <thead>\n",
       "    <tr style=\"text-align: right;\">\n",
       "      <th></th>\n",
       "      <th>Titles of movies</th>\n",
       "      <th>Release year of movie</th>\n",
       "      <th>Ratings</th>\n",
       "      <th>Run time</th>\n",
       "      <th>Votes</th>\n",
       "    </tr>\n",
       "  </thead>\n",
       "  <tbody>\n",
       "    <tr>\n",
       "      <th>count</th>\n",
       "      <td>500</td>\n",
       "      <td>500</td>\n",
       "      <td>500</td>\n",
       "      <td>500</td>\n",
       "      <td>500</td>\n",
       "    </tr>\n",
       "    <tr>\n",
       "      <th>unique</th>\n",
       "      <td>497</td>\n",
       "      <td>98</td>\n",
       "      <td>14</td>\n",
       "      <td>120</td>\n",
       "      <td>499</td>\n",
       "    </tr>\n",
       "    <tr>\n",
       "      <th>top</th>\n",
       "      <td>Drishyam</td>\n",
       "      <td>2000</td>\n",
       "      <td>8.0</td>\n",
       "      <td>130</td>\n",
       "      <td>166187</td>\n",
       "    </tr>\n",
       "    <tr>\n",
       "      <th>freq</th>\n",
       "      <td>2</td>\n",
       "      <td>20</td>\n",
       "      <td>129</td>\n",
       "      <td>14</td>\n",
       "      <td>2</td>\n",
       "    </tr>\n",
       "  </tbody>\n",
       "</table>\n",
       "</div>"
      ],
      "text/plain": [
       "       Titles of movies Release year of movie Ratings Run time   Votes\n",
       "count               500                   500     500      500     500\n",
       "unique              497                    98      14      120     499\n",
       "top            Drishyam                  2000     8.0      130  166187\n",
       "freq                  2                    20     129       14       2"
      ]
     },
     "execution_count": 41,
     "metadata": {},
     "output_type": "execute_result"
    }
   ],
   "source": [
    "## checking summary of all columns\n",
    "IMDb.describe()"
   ]
  },
  {
   "cell_type": "code",
   "execution_count": 42,
   "id": "a45a782d",
   "metadata": {},
   "outputs": [
    {
     "name": "stdout",
     "output_type": "stream",
     "text": [
      "(500, 5)\n",
      "2500\n"
     ]
    }
   ],
   "source": [
    "## checking size of the dataset\n",
    "print(IMDb.shape)\n",
    "print(IMDb.size)"
   ]
  },
  {
   "cell_type": "code",
   "execution_count": 43,
   "id": "2f4b4dd8",
   "metadata": {},
   "outputs": [
    {
     "data": {
      "text/plain": [
       "2"
      ]
     },
     "execution_count": 43,
     "metadata": {},
     "output_type": "execute_result"
    }
   ],
   "source": [
    "#check the dimensions of data\n",
    "IMDb.ndim"
   ]
  },
  {
   "cell_type": "code",
   "execution_count": 44,
   "id": "a0195332",
   "metadata": {},
   "outputs": [],
   "source": [
    "## after checking data type wee understand some columns need to change their dtypes for analysis \n",
    "IMDb['Run time']=IMDb['Run time'].astype(str).astype(int)\n",
    "\n",
    "IMDb['Ratings']=IMDb['Ratings'].astype(str).astype(float)\n",
    "\n",
    "IMDb['Votes']=IMDb['Votes'].astype(str).astype(int)\n",
    "\n",
    "IMDb['Release year of movie']=IMDb['Release year of movie'].astype(str).astype(int)"
   ]
  },
  {
   "cell_type": "code",
   "execution_count": 45,
   "id": "301e6b7f",
   "metadata": {},
   "outputs": [
    {
     "name": "stdout",
     "output_type": "stream",
     "text": [
      "[142 175 152 201 195 202  96 164 154 148 179 139 178 161 153 136 145 124\n",
      " 133 130 169 125 189 116 127 137 118 121 207 141 132 106 112 168 151 150\n",
      " 155 119 110  88  89 147 117 165 109 102  87 160 126 122 158 181 149 105\n",
      " 170 135  98 101 113 134 115 146 143  95 123 131 103 108 104  81  99 229\n",
      " 129 218 128 107  68 138 156 167 163 186 321 140  97 180 111 100 162 114\n",
      "  91 172  85 212  72  94 144 196 159  93 242 120 188  90  84 205 174  92\n",
      "  86  75  76 184 176 194  83  82 197  80 220  64]\n",
      "[9.3 9.2 9.  8.9 8.8 8.7 8.6 8.5 8.4 8.3 8.1 8.  7.9 7.8]\n",
      "[260246 179792 257391 178720 132340 123860 768854 191204 199477 228353\n",
      " 161405 204986 180827 201074 746254 111041 186829 112550 125963 987816\n",
      " 192697 174495 744098 737789 135494 126524 679753 159773 107370 139316\n",
      " 133182  54627 340558 447018  26906 753320 817305 836287 109140  39934\n",
      " 130040 129346 809813 146203 110101 106517 113275 103088 255905 268893\n",
      " 116842 654290 858746 324511 656654 482678 561905 238386 182272  88889\n",
      "  85756 120656  29053 254123 497797 106698 102658 482739 150494 166187\n",
      "  35245 388720 117730 108998 384604 565117 121232 113568 384521 102087\n",
      "  75942 702836 395020 947634 247898 991144  43373 482394 122740 194234\n",
      " 218556 220993  40004 126890  39153 184485  40632 321691 242213 173276\n",
      " 663041 101972 189536 818607 140341 985774 745933 839988 825040 942988\n",
      " 970044 637911 995199 727876 344898 816063 102894 258464 813618 654861\n",
      " 312818 289317  76666 178972 322916 395985  31988 238409  77103 161395\n",
      " 155003 435992 155833 172123 124959  50759 557290  59556  42501  89949\n",
      "  77641 468912  37735  94218  80144  67072 692925  94178  36063 207213\n",
      " 465398 126684  53546  47387  32910 138926 135182 947084  85850 573443\n",
      " 658795 110297 143467 351439 382569 915062 108966 102252 973373 573294\n",
      " 104491 574110  73807 508846 959193 405709 741402 860715 123861 412152\n",
      " 347751 237851 803561 533688  28731 321288  28453 252614 241639 121359\n",
      " 263283 218091 173220  60728  60416  25643 130014 123580  36405 175191\n",
      " 116403 228658  59450  75365  29125  29996 116204 236660  38740 106105\n",
      " 182617  48542  51736  34110 153368  65481  35561  32700 169977  34686\n",
      "  63560  32725 135655  92166 392392 114683  36432 102780  61048  33475\n",
      "  50740  33836  30927 172002 569080 233360 832884  56291 313048 485384\n",
      "  51301 119097  45661  55795 753423 114739  57690 545954 597151 782801\n",
      " 501033  82684 673114 100429 381592 222140 583790  51849 114708 835931\n",
      " 750093 103263 136158  94054  46652 498773 539672 629138  27728 761978\n",
      " 107311  39603  62298 647792 740664  82403  81395 186165 123900 437144\n",
      " 716258  47930 147559  36502 787224 309233  52788  89732  73093  39398\n",
      "  63762  53517 145995  93395  42953 610737  68597  78850  52990 290543\n",
      " 407086 154174 445958 262045 506321 182420 422360  70303  33658 163938\n",
      " 104280 166946  26782  80491  34662 394438  71953 263464 253621  45970\n",
      " 156359 129611  33918  90165  47506  47906  43286 213945 212039 178321\n",
      "  50870 270539  74710  53135  25736 116882  32878  55398  37918  36149\n",
      "  81383  72459  61938  65853 103802  31661  88913  88641  62791  55554\n",
      " 137203 103503  37183  36910  26369  25732  39843 157254  57269  62942\n",
      " 596206  74529 297293  30297  25631  47578  56638  54583  57224  92699\n",
      " 707747 372338 160830 674026  38577  87243 122206 155174 701536 523650\n",
      " 521352  25270 240222 661054  99651  53102  30531 105769  33600 215224\n",
      " 673054 303255  52388 351678  48716  59967 599457 480131 416406 185712\n",
      " 161854 619671 226470  54811  32804  45339 103317 548855  68416  54069\n",
      " 450735 618198 180517 111761  46997 540325  52639 493962 266801 273193\n",
      " 109086 349542 663043 569675 114114  30284 260966  61218 140976  34104\n",
      " 224128 100593 328181 215306  31171 481031  73762 100807 305017  27980\n",
      "  71164 199218 138731 146578 401037  35432 196826 139297 114046  43343\n",
      "  76927 101416  30193  84095  31366  75511  26485  76025 214278  76447\n",
      "  31374  75147 133741  31787  49137  70579  88434  26607 107201 132720\n",
      "  31238  55457 141481  47480 100297  85040  26341  36800  47073  70305\n",
      "  26199  68737  28855  50786  29416  84883  46047  95920 322161  26583\n",
      "  28325 261024  59517 164593 637013 224273 128268  75088 275780]\n",
      "[    1994     1972     2008     2003     1993     1974     1957     2021\n",
      "     2010     2002     1999     2001     1966     2020     1990     1980\n",
      "     1975     2022     2014     1998     1997     1995     1991     1977\n",
      "     1962     1954     1946     2019     2011     2006     2000     1988\n",
      "     1985     1979     1968     1960     1942     1936     1931     2018\n",
      " 20002000     2016     2012     2009     1986     1984     1981     1963\n",
      "     1964     1950     1940     2017     2013     2007     2004     1992\n",
      "     1987     1983     1973     1971     1961     1959     1958     1955\n",
      "     1952     1948     1944     1941     1927     1921     2015     2005\n",
      "     1989     1982     1976     1969     1965     1953     1967     1951\n",
      "     1949     1939     1937     1934     1930     1928     1996     1956\n",
      "     1947     1945     1925     1920     1970     1943     1938     1933\n",
      "     1932     1922]\n"
     ]
    }
   ],
   "source": [
    "##  this operation for checking any xna or negative value.\n",
    "\n",
    "print(IMDb['Run time'].unique()) \n",
    "print(IMDb['Ratings'].unique())    \n",
    "print(IMDb['Votes'].unique())   \n",
    "print(IMDb['Release year of movie'].unique()) "
   ]
  },
  {
   "cell_type": "code",
   "execution_count": 46,
   "id": "a5accc3f",
   "metadata": {},
   "outputs": [
    {
     "name": "stdout",
     "output_type": "stream",
     "text": [
      "<class 'pandas.core.frame.DataFrame'>\n",
      "Int64Index: 500 entries, 0 to 99\n",
      "Data columns (total 5 columns):\n",
      " #   Column                 Non-Null Count  Dtype  \n",
      "---  ------                 --------------  -----  \n",
      " 0   Titles of movies       500 non-null    object \n",
      " 1   Release year of movie  500 non-null    int32  \n",
      " 2   Ratings                500 non-null    float64\n",
      " 3   Run time               500 non-null    int32  \n",
      " 4   Votes                  500 non-null    int32  \n",
      "dtypes: float64(1), int32(3), object(1)\n",
      "memory usage: 17.6+ KB\n"
     ]
    }
   ],
   "source": [
    "# checking data type of every column\n",
    "IMDb.info()"
   ]
  },
  {
   "cell_type": "code",
   "execution_count": 47,
   "id": "161494f9",
   "metadata": {},
   "outputs": [
    {
     "data": {
      "text/html": [
       "<div>\n",
       "<style scoped>\n",
       "    .dataframe tbody tr th:only-of-type {\n",
       "        vertical-align: middle;\n",
       "    }\n",
       "\n",
       "    .dataframe tbody tr th {\n",
       "        vertical-align: top;\n",
       "    }\n",
       "\n",
       "    .dataframe thead th {\n",
       "        text-align: right;\n",
       "    }\n",
       "</style>\n",
       "<table border=\"1\" class=\"dataframe\">\n",
       "  <thead>\n",
       "    <tr style=\"text-align: right;\">\n",
       "      <th></th>\n",
       "      <th>Titles of movies</th>\n",
       "      <th>Release year of movie</th>\n",
       "      <th>Ratings</th>\n",
       "      <th>Run time</th>\n",
       "      <th>Votes</th>\n",
       "    </tr>\n",
       "  </thead>\n",
       "  <tbody>\n",
       "    <tr>\n",
       "      <th>0</th>\n",
       "      <td>The Shawshank Redemption</td>\n",
       "      <td>1994</td>\n",
       "      <td>9.3</td>\n",
       "      <td>142</td>\n",
       "      <td>260246</td>\n",
       "    </tr>\n",
       "    <tr>\n",
       "      <th>1</th>\n",
       "      <td>The Godfather</td>\n",
       "      <td>1972</td>\n",
       "      <td>9.2</td>\n",
       "      <td>175</td>\n",
       "      <td>179792</td>\n",
       "    </tr>\n",
       "    <tr>\n",
       "      <th>2</th>\n",
       "      <td>The Dark Knight</td>\n",
       "      <td>2008</td>\n",
       "      <td>9.0</td>\n",
       "      <td>152</td>\n",
       "      <td>257391</td>\n",
       "    </tr>\n",
       "    <tr>\n",
       "      <th>3</th>\n",
       "      <td>The Lord of the Rings: The Return of the King</td>\n",
       "      <td>2003</td>\n",
       "      <td>9.0</td>\n",
       "      <td>201</td>\n",
       "      <td>178720</td>\n",
       "    </tr>\n",
       "    <tr>\n",
       "      <th>4</th>\n",
       "      <td>Schindler's List</td>\n",
       "      <td>1993</td>\n",
       "      <td>9.0</td>\n",
       "      <td>195</td>\n",
       "      <td>132340</td>\n",
       "    </tr>\n",
       "  </tbody>\n",
       "</table>\n",
       "</div>"
      ],
      "text/plain": [
       "                                Titles of movies  Release year of movie  \\\n",
       "0                       The Shawshank Redemption                   1994   \n",
       "1                                  The Godfather                   1972   \n",
       "2                                The Dark Knight                   2008   \n",
       "3  The Lord of the Rings: The Return of the King                   2003   \n",
       "4                               Schindler's List                   1993   \n",
       "\n",
       "   Ratings  Run time   Votes  \n",
       "0      9.3       142  260246  \n",
       "1      9.2       175  179792  \n",
       "2      9.0       152  257391  \n",
       "3      9.0       201  178720  \n",
       "4      9.0       195  132340  "
      ]
     },
     "execution_count": 47,
     "metadata": {},
     "output_type": "execute_result"
    }
   ],
   "source": [
    "## checking all top 5 rows\n",
    "IMDb.head()"
   ]
  },
  {
   "cell_type": "code",
   "execution_count": null,
   "id": "bd10a21d",
   "metadata": {},
   "outputs": [],
   "source": []
  },
  {
   "cell_type": "code",
   "execution_count": 48,
   "id": "8624b1f3",
   "metadata": {},
   "outputs": [
    {
     "data": {
      "text/html": [
       "<div>\n",
       "<style scoped>\n",
       "    .dataframe tbody tr th:only-of-type {\n",
       "        vertical-align: middle;\n",
       "    }\n",
       "\n",
       "    .dataframe tbody tr th {\n",
       "        vertical-align: top;\n",
       "    }\n",
       "\n",
       "    .dataframe thead th {\n",
       "        text-align: right;\n",
       "    }\n",
       "</style>\n",
       "<table border=\"1\" class=\"dataframe\">\n",
       "  <thead>\n",
       "    <tr style=\"text-align: right;\">\n",
       "      <th></th>\n",
       "      <th>Titles of movies</th>\n",
       "      <th>Release year of movie</th>\n",
       "      <th>Ratings</th>\n",
       "      <th>Run time</th>\n",
       "      <th>Votes</th>\n",
       "    </tr>\n",
       "  </thead>\n",
       "  <tbody>\n",
       "    <tr>\n",
       "      <th>95</th>\n",
       "      <td>Dunkirk</td>\n",
       "      <td>2017</td>\n",
       "      <td>7.8</td>\n",
       "      <td>106</td>\n",
       "      <td>637013</td>\n",
       "    </tr>\n",
       "    <tr>\n",
       "      <th>96</th>\n",
       "      <td>Hidden Figures</td>\n",
       "      <td>2016</td>\n",
       "      <td>7.8</td>\n",
       "      <td>127</td>\n",
       "      <td>224273</td>\n",
       "    </tr>\n",
       "    <tr>\n",
       "      <th>97</th>\n",
       "      <td>Hunt for the Wilderpeople</td>\n",
       "      <td>2016</td>\n",
       "      <td>7.8</td>\n",
       "      <td>101</td>\n",
       "      <td>128268</td>\n",
       "    </tr>\n",
       "    <tr>\n",
       "      <th>98</th>\n",
       "      <td>Paddington 2</td>\n",
       "      <td>2017</td>\n",
       "      <td>7.8</td>\n",
       "      <td>103</td>\n",
       "      <td>75088</td>\n",
       "    </tr>\n",
       "    <tr>\n",
       "      <th>99</th>\n",
       "      <td>Manchester by the Sea</td>\n",
       "      <td>2016</td>\n",
       "      <td>7.8</td>\n",
       "      <td>137</td>\n",
       "      <td>275780</td>\n",
       "    </tr>\n",
       "  </tbody>\n",
       "</table>\n",
       "</div>"
      ],
      "text/plain": [
       "             Titles of movies  Release year of movie  Ratings  Run time  \\\n",
       "95                    Dunkirk                   2017      7.8       106   \n",
       "96             Hidden Figures                   2016      7.8       127   \n",
       "97  Hunt for the Wilderpeople                   2016      7.8       101   \n",
       "98               Paddington 2                   2017      7.8       103   \n",
       "99      Manchester by the Sea                   2016      7.8       137   \n",
       "\n",
       "     Votes  \n",
       "95  637013  \n",
       "96  224273  \n",
       "97  128268  \n",
       "98   75088  \n",
       "99  275780  "
      ]
     },
     "execution_count": 48,
     "metadata": {},
     "output_type": "execute_result"
    }
   ],
   "source": [
    "##  checking all bottom 5 columns\n",
    "IMDb.tail()"
   ]
  },
  {
   "cell_type": "markdown",
   "id": "4382f2f2",
   "metadata": {},
   "source": [
    "### As per above operations we get :\n",
    "* There are 500 rows and 5 columns in the data set. There are no null values in any of the columns.\n",
    "* there are only int,float and object types are available.\n",
    "* And dataframe is 2 dimension."
   ]
  },
  {
   "cell_type": "markdown",
   "id": "be2ba6ce",
   "metadata": {},
   "source": [
    "## Dealing with null values"
   ]
  },
  {
   "cell_type": "code",
   "execution_count": 49,
   "id": "b32d6afc",
   "metadata": {},
   "outputs": [
    {
     "data": {
      "text/plain": [
       "Titles of movies         0\n",
       "Release year of movie    0\n",
       "Ratings                  0\n",
       "Run time                 0\n",
       "Votes                    0\n",
       "dtype: int64"
      ]
     },
     "execution_count": 49,
     "metadata": {},
     "output_type": "execute_result"
    }
   ],
   "source": [
    "## checking amount of null values in dataframe\n",
    "IMDb.isnull().sum()"
   ]
  },
  {
   "cell_type": "markdown",
   "id": "2a970f8a",
   "metadata": {},
   "source": [
    "there is no any null value in it"
   ]
  },
  {
   "cell_type": "markdown",
   "id": "71ca64f2",
   "metadata": {},
   "source": [
    "## Dealing with outliers"
   ]
  },
  {
   "cell_type": "code",
   "execution_count": 50,
   "id": "57f44f44",
   "metadata": {},
   "outputs": [
    {
     "data": {
      "image/png": "[encoded data removed]",
      "text/plain": [
       "<Figure size 1296x360 with 2 Axes>"
      ]
     },
     "metadata": {
      "needs_background": "light"
     },
     "output_type": "display_data"
    }
   ],
   "source": [
    "# Draw box plots for indepent variables with continuous values\n",
    "columns = ['Ratings', 'Run time']\n",
    "plt.figure(figsize=(18,5))\n",
    "\n",
    "i = 1\n",
    "for column in columns:\n",
    "    plt.subplot(1,4,i)\n",
    "    sns.boxplot(x=column, data=IMDb, palette=\"Blues\", notch = True)\n",
    "    i+=1"
   ]
  },
  {
   "cell_type": "markdown",
   "id": "24f412b9",
   "metadata": {},
   "source": [
    "as per above operation we understand there is some values are outliner but we dont needd to fix it, because rating and run time has possibility to be outliner"
   ]
  },
  {
   "cell_type": "markdown",
   "id": "d7a147be",
   "metadata": {},
   "source": [
    "## Binning of continuos variable"
   ]
  },
  {
   "cell_type": "code",
   "execution_count": 51,
   "id": "e3ab3ec8",
   "metadata": {},
   "outputs": [
    {
     "data": {
      "text/plain": [
       "0    MEDIUM\n",
       "1    MEDIUM\n",
       "2    MEDIUM\n",
       "3    MEDIUM\n",
       "4    MEDIUM\n",
       "Name: Votes, dtype: category\n",
       "Categories (5, object): ['VERY_LOW' < 'LOW' < 'MEDIUM' < 'HIGH' < 'VERY_HIGH']"
      ]
     },
     "execution_count": 51,
     "metadata": {},
     "output_type": "execute_result"
    }
   ],
   "source": [
    "# Binning 'Votes' based on quantiles\n",
    "VotesInBins = pd.qcut(IMDb.Votes, q=[0, 0.25, 0.5, 0.75, 0.95, 1], labels=['VERY_LOW', 'LOW', \"MEDIUM\", 'HIGH', 'VERY_HIGH'])\n",
    "VotesInBins.head()"
   ]
  },
  {
   "cell_type": "code",
   "execution_count": 52,
   "id": "9a78f909",
   "metadata": {},
   "outputs": [
    {
     "name": "stdout",
     "output_type": "stream",
     "text": [
      "                                Titles of movies  Release year of movie  \\\n",
      "0                       The Shawshank Redemption                   1994   \n",
      "1                                  The Godfather                   1972   \n",
      "2                                The Dark Knight                   2008   \n",
      "3  The Lord of the Rings: The Return of the King                   2003   \n",
      "4                               Schindler's List                   1993   \n",
      "\n",
      "   Ratings  Run time   Votes VotesInBins  \n",
      "0      9.3       142  260246      MEDIUM  \n",
      "1      9.2       175  179792      MEDIUM  \n",
      "2      9.0       152  257391      MEDIUM  \n",
      "3      9.0       201  178720      MEDIUM  \n",
      "4      9.0       195  132340      MEDIUM  \n"
     ]
    }
   ],
   "source": [
    "# Add new column to the DataFrame\n",
    "IMDb = IMDb.assign(VotesInBins =VotesInBins)\n",
    "print(IMDb[:5])"
   ]
  },
  {
   "cell_type": "code",
   "execution_count": 53,
   "id": "5fdbdc38",
   "metadata": {},
   "outputs": [
    {
     "name": "stdout",
     "output_type": "stream",
     "text": [
      "VERY_LOW     125\n",
      "LOW          125\n",
      "MEDIUM       125\n",
      "HIGH         100\n",
      "VERY_HIGH     25\n",
      "Name: VotesInBins, dtype: int64\n",
      "VERY_LOW     0.25\n",
      "LOW          0.25\n",
      "MEDIUM       0.25\n",
      "HIGH         0.20\n",
      "VERY_HIGH    0.05\n",
      "Name: VotesInBins, dtype: float64\n"
     ]
    }
   ],
   "source": [
    "print(IMDb.VotesInBins.value_counts())  ## in amount of value\n",
    "print(IMDb.VotesInBins.value_counts(normalize=True))  ##  to see in percenVotesInBinstage format"
   ]
  },
  {
   "cell_type": "code",
   "execution_count": 54,
   "id": "8d1d4b50",
   "metadata": {},
   "outputs": [
    {
     "data": {
      "text/plain": [
       "0    Moderate_Film\n",
       "1            Movie\n",
       "2            Movie\n",
       "3       Full_Movie\n",
       "4       Full_Movie\n",
       "Name: Run time, dtype: category\n",
       "Categories (5, object): ['Short_Film' < 'Film' < 'Moderate_Film' < 'Movie' < 'Full_Movie']"
      ]
     },
     "execution_count": 54,
     "metadata": {},
     "output_type": "execute_result"
    }
   ],
   "source": [
    "# Binning 'Run time' based on quantiles\n",
    "RuntimeInBins = pd.qcut(IMDb['Run time'], q=[0, 0.25, 0.5, 0.75, 0.95, 1], labels=['Short_Film', 'Film', \"Moderate_Film\", 'Movie', 'Full_Movie'])\n",
    "RuntimeInBins.head()"
   ]
  },
  {
   "cell_type": "code",
   "execution_count": 55,
   "id": "444fc10e",
   "metadata": {},
   "outputs": [],
   "source": [
    "# Add new column to the DataFrame\n",
    "\n",
    "IMDb.insert(loc = 4,\n",
    "          column = 'Run time In Bins',\n",
    "          value = RuntimeInBins)"
   ]
  },
  {
   "cell_type": "code",
   "execution_count": 56,
   "id": "268d9f12",
   "metadata": {},
   "outputs": [
    {
     "name": "stdout",
     "output_type": "stream",
     "text": [
      "Short_Film       131\n",
      "Moderate_Film    125\n",
      "Film             122\n",
      "Movie             99\n",
      "Full_Movie        23\n",
      "Name: Run time In Bins, dtype: int64\n",
      "Short_Film       0.262\n",
      "Moderate_Film    0.250\n",
      "Film             0.244\n",
      "Movie            0.198\n",
      "Full_Movie       0.046\n",
      "Name: Run time In Bins, dtype: float64\n"
     ]
    }
   ],
   "source": [
    "print(IMDb['Run time In Bins'].value_counts())  ## in amount of value\n",
    "print(IMDb['Run time In Bins'].value_counts(normalize=True))  ##  to see in percenVotesInBinstage format"
   ]
  },
  {
   "cell_type": "code",
   "execution_count": null,
   "id": "db8c8a62",
   "metadata": {},
   "outputs": [],
   "source": []
  },
  {
   "cell_type": "markdown",
   "id": "62d0ea93",
   "metadata": {},
   "source": [
    "# Data Exploration"
   ]
  },
  {
   "cell_type": "code",
   "execution_count": 57,
   "id": "26477d57",
   "metadata": {},
   "outputs": [
    {
     "data": {
      "text/html": [
       "<div>\n",
       "<style scoped>\n",
       "    .dataframe tbody tr th:only-of-type {\n",
       "        vertical-align: middle;\n",
       "    }\n",
       "\n",
       "    .dataframe tbody tr th {\n",
       "        vertical-align: top;\n",
       "    }\n",
       "\n",
       "    .dataframe thead th {\n",
       "        text-align: right;\n",
       "    }\n",
       "</style>\n",
       "<table border=\"1\" class=\"dataframe\">\n",
       "  <thead>\n",
       "    <tr style=\"text-align: right;\">\n",
       "      <th></th>\n",
       "      <th>Titles of movies</th>\n",
       "      <th>Release year of movie</th>\n",
       "      <th>Ratings</th>\n",
       "      <th>Run time</th>\n",
       "      <th>Run time In Bins</th>\n",
       "      <th>Votes</th>\n",
       "      <th>VotesInBins</th>\n",
       "    </tr>\n",
       "  </thead>\n",
       "  <tbody>\n",
       "    <tr>\n",
       "      <th>0</th>\n",
       "      <td>The Shawshank Redemption</td>\n",
       "      <td>1994</td>\n",
       "      <td>9.3</td>\n",
       "      <td>142</td>\n",
       "      <td>Moderate_Film</td>\n",
       "      <td>260246</td>\n",
       "      <td>MEDIUM</td>\n",
       "    </tr>\n",
       "    <tr>\n",
       "      <th>1</th>\n",
       "      <td>The Godfather</td>\n",
       "      <td>1972</td>\n",
       "      <td>9.2</td>\n",
       "      <td>175</td>\n",
       "      <td>Movie</td>\n",
       "      <td>179792</td>\n",
       "      <td>MEDIUM</td>\n",
       "    </tr>\n",
       "    <tr>\n",
       "      <th>2</th>\n",
       "      <td>The Dark Knight</td>\n",
       "      <td>2008</td>\n",
       "      <td>9.0</td>\n",
       "      <td>152</td>\n",
       "      <td>Movie</td>\n",
       "      <td>257391</td>\n",
       "      <td>MEDIUM</td>\n",
       "    </tr>\n",
       "    <tr>\n",
       "      <th>3</th>\n",
       "      <td>The Lord of the Rings: The Return of the King</td>\n",
       "      <td>2003</td>\n",
       "      <td>9.0</td>\n",
       "      <td>201</td>\n",
       "      <td>Full_Movie</td>\n",
       "      <td>178720</td>\n",
       "      <td>MEDIUM</td>\n",
       "    </tr>\n",
       "    <tr>\n",
       "      <th>4</th>\n",
       "      <td>Schindler's List</td>\n",
       "      <td>1993</td>\n",
       "      <td>9.0</td>\n",
       "      <td>195</td>\n",
       "      <td>Full_Movie</td>\n",
       "      <td>132340</td>\n",
       "      <td>MEDIUM</td>\n",
       "    </tr>\n",
       "  </tbody>\n",
       "</table>\n",
       "</div>"
      ],
      "text/plain": [
       "                                Titles of movies  Release year of movie  \\\n",
       "0                       The Shawshank Redemption                   1994   \n",
       "1                                  The Godfather                   1972   \n",
       "2                                The Dark Knight                   2008   \n",
       "3  The Lord of the Rings: The Return of the King                   2003   \n",
       "4                               Schindler's List                   1993   \n",
       "\n",
       "   Ratings  Run time Run time In Bins   Votes VotesInBins  \n",
       "0      9.3       142    Moderate_Film  260246      MEDIUM  \n",
       "1      9.2       175            Movie  179792      MEDIUM  \n",
       "2      9.0       152            Movie  257391      MEDIUM  \n",
       "3      9.0       201       Full_Movie  178720      MEDIUM  \n",
       "4      9.0       195       Full_Movie  132340      MEDIUM  "
      ]
     },
     "execution_count": 57,
     "metadata": {},
     "output_type": "execute_result"
    }
   ],
   "source": [
    "IMDb.head()"
   ]
  },
  {
   "cell_type": "code",
   "execution_count": 58,
   "id": "cae97536",
   "metadata": {},
   "outputs": [
    {
     "data": {
      "text/plain": [
       "<AxesSubplot:ylabel='Votes'>"
      ]
     },
     "execution_count": 58,
     "metadata": {},
     "output_type": "execute_result"
    },
    {
     "data": {
      "image/png": "[encoded data removed]",
      "text/plain": [
       "<Figure size 360x360 with 1 Axes>"
      ]
     },
     "metadata": {},
     "output_type": "display_data"
    }
   ],
   "source": [
    "plt.figure(figsize=(5,5))\n",
    "IMDb.groupby([\"VotesInBins\"])[\"Votes\"].sum().plot.pie(shadow = True,autopct = '%1.0f%%')"
   ]
  },
  {
   "cell_type": "code",
   "execution_count": 59,
   "id": "336050f2",
   "metadata": {},
   "outputs": [
    {
     "data": {
      "image/png": "[encoded data removed]",
      "text/plain": [
       "<Figure size 360x360 with 1 Axes>"
      ]
     },
     "metadata": {
      "needs_background": "light"
     },
     "output_type": "display_data"
    }
   ],
   "source": [
    "g = sns.factorplot(data = IMDb,\n",
    "               x = \"VotesInBins\",\n",
    "               y = \"Release year of movie\", \n",
    "               ci = 95\n",
    "               )"
   ]
  },
  {
   "cell_type": "code",
   "execution_count": 60,
   "id": "1a16fc64",
   "metadata": {},
   "outputs": [
    {
     "data": {
      "text/plain": [
       "<AxesSubplot:ylabel='Run time'>"
      ]
     },
     "execution_count": 60,
     "metadata": {},
     "output_type": "execute_result"
    },
    {
     "data": {
      "image/png": "[encoded data removed]",
      "text/plain": [
       "<Figure size 360x360 with 1 Axes>"
      ]
     },
     "metadata": {},
     "output_type": "display_data"
    }
   ],
   "source": [
    "plt.figure(figsize=(5,5))\n",
    "IMDb.groupby([\"Run time In Bins\"])[\"Run time\"].sum().plot.pie(shadow = True,autopct = '%1.0f%%')"
   ]
  },
  {
   "cell_type": "code",
   "execution_count": 61,
   "id": "62a0f7e5",
   "metadata": {},
   "outputs": [
    {
     "data": {
      "text/plain": [
       "<AxesSubplot:xlabel='Run time In Bins'>"
      ]
     },
     "execution_count": 61,
     "metadata": {},
     "output_type": "execute_result"
    },
    {
     "data": {
      "image/png": "[encoded data removed]",
      "text/plain": [
       "<Figure size 432x288 with 1 Axes>"
      ]
     },
     "metadata": {
      "needs_background": "light"
     },
     "output_type": "display_data"
    }
   ],
   "source": [
    "IMDb.groupby(\"Run time In Bins\")[\"Votes\"].mean().plot.bar()"
   ]
  },
  {
   "cell_type": "markdown",
   "id": "f64cc9b4",
   "metadata": {},
   "source": [
    "## Bivariate and Multivariate Analysis"
   ]
  },
  {
   "cell_type": "markdown",
   "id": "5533fb0f",
   "metadata": {},
   "source": [
    "### Numeric- numeric analysis"
   ]
  },
  {
   "cell_type": "code",
   "execution_count": 62,
   "id": "95e474b0",
   "metadata": {},
   "outputs": [
    {
     "data": {
      "text/html": [
       "<div>\n",
       "<style scoped>\n",
       "    .dataframe tbody tr th:only-of-type {\n",
       "        vertical-align: middle;\n",
       "    }\n",
       "\n",
       "    .dataframe tbody tr th {\n",
       "        vertical-align: top;\n",
       "    }\n",
       "\n",
       "    .dataframe thead th {\n",
       "        text-align: right;\n",
       "    }\n",
       "</style>\n",
       "<table border=\"1\" class=\"dataframe\">\n",
       "  <thead>\n",
       "    <tr style=\"text-align: right;\">\n",
       "      <th></th>\n",
       "      <th>Titles of movies</th>\n",
       "      <th>Release year of movie</th>\n",
       "      <th>Ratings</th>\n",
       "      <th>Run time</th>\n",
       "      <th>Run time In Bins</th>\n",
       "      <th>Votes</th>\n",
       "      <th>VotesInBins</th>\n",
       "    </tr>\n",
       "  </thead>\n",
       "  <tbody>\n",
       "    <tr>\n",
       "      <th>0</th>\n",
       "      <td>The Shawshank Redemption</td>\n",
       "      <td>1994</td>\n",
       "      <td>9.3</td>\n",
       "      <td>142</td>\n",
       "      <td>Moderate_Film</td>\n",
       "      <td>260246</td>\n",
       "      <td>MEDIUM</td>\n",
       "    </tr>\n",
       "    <tr>\n",
       "      <th>1</th>\n",
       "      <td>The Godfather</td>\n",
       "      <td>1972</td>\n",
       "      <td>9.2</td>\n",
       "      <td>175</td>\n",
       "      <td>Movie</td>\n",
       "      <td>179792</td>\n",
       "      <td>MEDIUM</td>\n",
       "    </tr>\n",
       "    <tr>\n",
       "      <th>2</th>\n",
       "      <td>The Dark Knight</td>\n",
       "      <td>2008</td>\n",
       "      <td>9.0</td>\n",
       "      <td>152</td>\n",
       "      <td>Movie</td>\n",
       "      <td>257391</td>\n",
       "      <td>MEDIUM</td>\n",
       "    </tr>\n",
       "    <tr>\n",
       "      <th>3</th>\n",
       "      <td>The Lord of the Rings: The Return of the King</td>\n",
       "      <td>2003</td>\n",
       "      <td>9.0</td>\n",
       "      <td>201</td>\n",
       "      <td>Full_Movie</td>\n",
       "      <td>178720</td>\n",
       "      <td>MEDIUM</td>\n",
       "    </tr>\n",
       "    <tr>\n",
       "      <th>4</th>\n",
       "      <td>Schindler's List</td>\n",
       "      <td>1993</td>\n",
       "      <td>9.0</td>\n",
       "      <td>195</td>\n",
       "      <td>Full_Movie</td>\n",
       "      <td>132340</td>\n",
       "      <td>MEDIUM</td>\n",
       "    </tr>\n",
       "  </tbody>\n",
       "</table>\n",
       "</div>"
      ],
      "text/plain": [
       "                                Titles of movies  Release year of movie  \\\n",
       "0                       The Shawshank Redemption                   1994   \n",
       "1                                  The Godfather                   1972   \n",
       "2                                The Dark Knight                   2008   \n",
       "3  The Lord of the Rings: The Return of the King                   2003   \n",
       "4                               Schindler's List                   1993   \n",
       "\n",
       "   Ratings  Run time Run time In Bins   Votes VotesInBins  \n",
       "0      9.3       142    Moderate_Film  260246      MEDIUM  \n",
       "1      9.2       175            Movie  179792      MEDIUM  \n",
       "2      9.0       152            Movie  257391      MEDIUM  \n",
       "3      9.0       201       Full_Movie  178720      MEDIUM  \n",
       "4      9.0       195       Full_Movie  132340      MEDIUM  "
      ]
     },
     "execution_count": 62,
     "metadata": {},
     "output_type": "execute_result"
    }
   ],
   "source": [
    "IMDb.head()"
   ]
  },
  {
   "cell_type": "code",
   "execution_count": 63,
   "id": "9ea0c649",
   "metadata": {},
   "outputs": [
    {
     "data": {
      "image/png": "[encoded data removed]",
      "text/plain": [
       "<Figure size 432x288 with 1 Axes>"
      ]
     },
     "metadata": {
      "needs_background": "light"
     },
     "output_type": "display_data"
    }
   ],
   "source": [
    "#plot the scatter plot of Votes and Release year of movie variable in IMDb\n",
    "plt.scatter(IMDb.Votes, IMDb['Release year of movie'])\n",
    "plt.show()"
   ]
  },
  {
   "cell_type": "code",
   "execution_count": null,
   "id": "3cb54c1f",
   "metadata": {},
   "outputs": [],
   "source": []
  },
  {
   "cell_type": "code",
   "execution_count": 64,
   "id": "a59664ff",
   "metadata": {},
   "outputs": [
    {
     "data": {
      "image/png": "[encoded data removed]",
      "text/plain": [
       "<Figure size 432x288 with 2 Axes>"
      ]
     },
     "metadata": {
      "needs_background": "light"
     },
     "output_type": "display_data"
    }
   ],
   "source": [
    "###  gets a visualisation of the numeric data.\n",
    "sns.heatmap(IMDb[['Ratings','Votes','Run time','Release year of movie']].corr(), annot=True, cmap='Reds')\n",
    "plt.show()"
   ]
  },
  {
   "cell_type": "code",
   "execution_count": null,
   "id": "d5e3bb29",
   "metadata": {},
   "outputs": [],
   "source": []
  },
  {
   "cell_type": "markdown",
   "id": "9ed4515e",
   "metadata": {},
   "source": [
    "## Multivariate analysis"
   ]
  },
  {
   "cell_type": "code",
   "execution_count": 65,
   "id": "84d65fb1",
   "metadata": {},
   "outputs": [
    {
     "data": {
      "text/html": [
       "<div>\n",
       "<style scoped>\n",
       "    .dataframe tbody tr th:only-of-type {\n",
       "        vertical-align: middle;\n",
       "    }\n",
       "\n",
       "    .dataframe tbody tr th {\n",
       "        vertical-align: top;\n",
       "    }\n",
       "\n",
       "    .dataframe thead th {\n",
       "        text-align: right;\n",
       "    }\n",
       "</style>\n",
       "<table border=\"1\" class=\"dataframe\">\n",
       "  <thead>\n",
       "    <tr style=\"text-align: right;\">\n",
       "      <th></th>\n",
       "      <th>Titles of movies</th>\n",
       "      <th>Release year of movie</th>\n",
       "      <th>Ratings</th>\n",
       "      <th>Run time</th>\n",
       "      <th>Run time In Bins</th>\n",
       "      <th>Votes</th>\n",
       "      <th>VotesInBins</th>\n",
       "    </tr>\n",
       "  </thead>\n",
       "  <tbody>\n",
       "    <tr>\n",
       "      <th>0</th>\n",
       "      <td>The Shawshank Redemption</td>\n",
       "      <td>1994</td>\n",
       "      <td>9.3</td>\n",
       "      <td>142</td>\n",
       "      <td>Moderate_Film</td>\n",
       "      <td>260246</td>\n",
       "      <td>MEDIUM</td>\n",
       "    </tr>\n",
       "    <tr>\n",
       "      <th>1</th>\n",
       "      <td>The Godfather</td>\n",
       "      <td>1972</td>\n",
       "      <td>9.2</td>\n",
       "      <td>175</td>\n",
       "      <td>Movie</td>\n",
       "      <td>179792</td>\n",
       "      <td>MEDIUM</td>\n",
       "    </tr>\n",
       "    <tr>\n",
       "      <th>2</th>\n",
       "      <td>The Dark Knight</td>\n",
       "      <td>2008</td>\n",
       "      <td>9.0</td>\n",
       "      <td>152</td>\n",
       "      <td>Movie</td>\n",
       "      <td>257391</td>\n",
       "      <td>MEDIUM</td>\n",
       "    </tr>\n",
       "    <tr>\n",
       "      <th>3</th>\n",
       "      <td>The Lord of the Rings: The Return of the King</td>\n",
       "      <td>2003</td>\n",
       "      <td>9.0</td>\n",
       "      <td>201</td>\n",
       "      <td>Full_Movie</td>\n",
       "      <td>178720</td>\n",
       "      <td>MEDIUM</td>\n",
       "    </tr>\n",
       "    <tr>\n",
       "      <th>4</th>\n",
       "      <td>Schindler's List</td>\n",
       "      <td>1993</td>\n",
       "      <td>9.0</td>\n",
       "      <td>195</td>\n",
       "      <td>Full_Movie</td>\n",
       "      <td>132340</td>\n",
       "      <td>MEDIUM</td>\n",
       "    </tr>\n",
       "  </tbody>\n",
       "</table>\n",
       "</div>"
      ],
      "text/plain": [
       "                                Titles of movies  Release year of movie  \\\n",
       "0                       The Shawshank Redemption                   1994   \n",
       "1                                  The Godfather                   1972   \n",
       "2                                The Dark Knight                   2008   \n",
       "3  The Lord of the Rings: The Return of the King                   2003   \n",
       "4                               Schindler's List                   1993   \n",
       "\n",
       "   Ratings  Run time Run time In Bins   Votes VotesInBins  \n",
       "0      9.3       142    Moderate_Film  260246      MEDIUM  \n",
       "1      9.2       175            Movie  179792      MEDIUM  \n",
       "2      9.0       152            Movie  257391      MEDIUM  \n",
       "3      9.0       201       Full_Movie  178720      MEDIUM  \n",
       "4      9.0       195       Full_Movie  132340      MEDIUM  "
      ]
     },
     "execution_count": 65,
     "metadata": {},
     "output_type": "execute_result"
    }
   ],
   "source": [
    "IMDb.head()"
   ]
  },
  {
   "cell_type": "code",
   "execution_count": 66,
   "id": "2322004c",
   "metadata": {},
   "outputs": [
    {
     "data": {
      "text/html": [
       "<div>\n",
       "<style scoped>\n",
       "    .dataframe tbody tr th:only-of-type {\n",
       "        vertical-align: middle;\n",
       "    }\n",
       "\n",
       "    .dataframe tbody tr th {\n",
       "        vertical-align: top;\n",
       "    }\n",
       "\n",
       "    .dataframe thead th {\n",
       "        text-align: right;\n",
       "    }\n",
       "</style>\n",
       "<table border=\"1\" class=\"dataframe\">\n",
       "  <thead>\n",
       "    <tr style=\"text-align: right;\">\n",
       "      <th>Ratings</th>\n",
       "      <th>7.8</th>\n",
       "      <th>7.9</th>\n",
       "      <th>8.0</th>\n",
       "      <th>8.1</th>\n",
       "      <th>8.3</th>\n",
       "      <th>8.4</th>\n",
       "      <th>8.5</th>\n",
       "      <th>8.6</th>\n",
       "      <th>8.7</th>\n",
       "      <th>8.8</th>\n",
       "      <th>8.9</th>\n",
       "      <th>9.0</th>\n",
       "      <th>9.2</th>\n",
       "      <th>9.3</th>\n",
       "    </tr>\n",
       "    <tr>\n",
       "      <th>Run time In Bins</th>\n",
       "      <th></th>\n",
       "      <th></th>\n",
       "      <th></th>\n",
       "      <th></th>\n",
       "      <th></th>\n",
       "      <th></th>\n",
       "      <th></th>\n",
       "      <th></th>\n",
       "      <th></th>\n",
       "      <th></th>\n",
       "      <th></th>\n",
       "      <th></th>\n",
       "      <th></th>\n",
       "      <th></th>\n",
       "    </tr>\n",
       "  </thead>\n",
       "  <tbody>\n",
       "    <tr>\n",
       "      <th>Short_Film</th>\n",
       "      <td>181843.666667</td>\n",
       "      <td>138723.04878</td>\n",
       "      <td>139699.974359</td>\n",
       "      <td>121140.272727</td>\n",
       "      <td>100363.750000</td>\n",
       "      <td>290184.300000</td>\n",
       "      <td>297970.636364</td>\n",
       "      <td>199902.000000</td>\n",
       "      <td>NaN</td>\n",
       "      <td>982621.500000</td>\n",
       "      <td>832514.0</td>\n",
       "      <td>793730.500000</td>\n",
       "      <td>101972.0</td>\n",
       "      <td>NaN</td>\n",
       "    </tr>\n",
       "    <tr>\n",
       "      <th>Film</th>\n",
       "      <td>322161.000000</td>\n",
       "      <td>206296.20000</td>\n",
       "      <td>292389.225806</td>\n",
       "      <td>59274.500000</td>\n",
       "      <td>281952.000000</td>\n",
       "      <td>392787.411765</td>\n",
       "      <td>438032.090909</td>\n",
       "      <td>283179.833333</td>\n",
       "      <td>125963.00</td>\n",
       "      <td>727876.000000</td>\n",
       "      <td>NaN</td>\n",
       "      <td>865853.500000</td>\n",
       "      <td>NaN</td>\n",
       "      <td>NaN</td>\n",
       "    </tr>\n",
       "    <tr>\n",
       "      <th>Moderate_Film</th>\n",
       "      <td>197350.500000</td>\n",
       "      <td>259158.72000</td>\n",
       "      <td>182764.482759</td>\n",
       "      <td>88731.000000</td>\n",
       "      <td>102008.142857</td>\n",
       "      <td>383058.700000</td>\n",
       "      <td>203694.833333</td>\n",
       "      <td>307170.916667</td>\n",
       "      <td>469924.20</td>\n",
       "      <td>449682.666667</td>\n",
       "      <td>NaN</td>\n",
       "      <td>NaN</td>\n",
       "      <td>NaN</td>\n",
       "      <td>260246.0</td>\n",
       "    </tr>\n",
       "    <tr>\n",
       "      <th>Movie</th>\n",
       "      <td>NaN</td>\n",
       "      <td>147865.00000</td>\n",
       "      <td>253651.086957</td>\n",
       "      <td>117755.333333</td>\n",
       "      <td>88373.666667</td>\n",
       "      <td>256041.315789</td>\n",
       "      <td>210344.357143</td>\n",
       "      <td>127176.200000</td>\n",
       "      <td>423628.75</td>\n",
       "      <td>390950.000000</td>\n",
       "      <td>195340.5</td>\n",
       "      <td>195756.000000</td>\n",
       "      <td>179792.0</td>\n",
       "      <td>663041.0</td>\n",
       "    </tr>\n",
       "    <tr>\n",
       "      <th>Full_Movie</th>\n",
       "      <td>NaN</td>\n",
       "      <td>86243.00000</td>\n",
       "      <td>149109.714286</td>\n",
       "      <td>236660.000000</td>\n",
       "      <td>NaN</td>\n",
       "      <td>NaN</td>\n",
       "      <td>80625.000000</td>\n",
       "      <td>252133.000000</td>\n",
       "      <td>NaN</td>\n",
       "      <td>344898.000000</td>\n",
       "      <td>NaN</td>\n",
       "      <td>144973.333333</td>\n",
       "      <td>NaN</td>\n",
       "      <td>NaN</td>\n",
       "    </tr>\n",
       "  </tbody>\n",
       "</table>\n",
       "</div>"
      ],
      "text/plain": [
       "Ratings                     7.8           7.9            8.0            8.1  \\\n",
       "Run time In Bins                                                              \n",
       "Short_Film        181843.666667  138723.04878  139699.974359  121140.272727   \n",
       "Film              322161.000000  206296.20000  292389.225806   59274.500000   \n",
       "Moderate_Film     197350.500000  259158.72000  182764.482759   88731.000000   \n",
       "Movie                       NaN  147865.00000  253651.086957  117755.333333   \n",
       "Full_Movie                  NaN   86243.00000  149109.714286  236660.000000   \n",
       "\n",
       "Ratings                     8.3            8.4            8.5            8.6  \\\n",
       "Run time In Bins                                                               \n",
       "Short_Film        100363.750000  290184.300000  297970.636364  199902.000000   \n",
       "Film              281952.000000  392787.411765  438032.090909  283179.833333   \n",
       "Moderate_Film     102008.142857  383058.700000  203694.833333  307170.916667   \n",
       "Movie              88373.666667  256041.315789  210344.357143  127176.200000   \n",
       "Full_Movie                  NaN            NaN   80625.000000  252133.000000   \n",
       "\n",
       "Ratings                 8.7            8.8       8.9            9.0       9.2  \\\n",
       "Run time In Bins                                                                \n",
       "Short_Film              NaN  982621.500000  832514.0  793730.500000  101972.0   \n",
       "Film              125963.00  727876.000000       NaN  865853.500000       NaN   \n",
       "Moderate_Film     469924.20  449682.666667       NaN            NaN       NaN   \n",
       "Movie             423628.75  390950.000000  195340.5  195756.000000  179792.0   \n",
       "Full_Movie              NaN  344898.000000       NaN  144973.333333       NaN   \n",
       "\n",
       "Ratings                9.3  \n",
       "Run time In Bins            \n",
       "Short_Film             NaN  \n",
       "Film                   NaN  \n",
       "Moderate_Film     260246.0  \n",
       "Movie             663041.0  \n",
       "Full_Movie             NaN  "
      ]
     },
     "execution_count": 66,
     "metadata": {},
     "output_type": "execute_result"
    }
   ],
   "source": [
    "MultivariateAnalysis = pd.pivot_table(data=IMDb, index='Run time In Bins', columns='Ratings', values='Votes')\n",
    "MultivariateAnalysis"
   ]
  },
  {
   "cell_type": "code",
   "execution_count": null,
   "id": "a63eb647",
   "metadata": {},
   "outputs": [],
   "source": []
  },
  {
   "cell_type": "code",
   "execution_count": 67,
   "id": "84fb5c96",
   "metadata": {},
   "outputs": [
    {
     "data": {
      "text/plain": [
       "<AxesSubplot:xlabel='Ratings', ylabel='Run time In Bins'>"
      ]
     },
     "execution_count": 67,
     "metadata": {},
     "output_type": "execute_result"
    },
    {
     "data": {
      "image/png": "[encoded data removed]",
      "text/plain": [
       "<Figure size 864x864 with 2 Axes>"
      ]
     },
     "metadata": {
      "needs_background": "light"
     },
     "output_type": "display_data"
    }
   ],
   "source": [
    "plt.figure(figsize = (12,12))\n",
    "sns.heatmap(MultivariateAnalysis, annot=True, cmap='RdYlGn',center = 0.9, fmt='.1f')"
   ]
  },
  {
   "cell_type": "code",
   "execution_count": null,
   "id": "f222a01a",
   "metadata": {},
   "outputs": [],
   "source": []
  },
  {
   "cell_type": "code",
   "execution_count": null,
   "id": "35dbd047",
   "metadata": {},
   "outputs": [],
   "source": []
  }
 ],
 "metadata": {
  "kernelspec": {
   "display_name": "Python 3 (ipykernel)",
   "language": "python",
   "name": "python3"
  },
  "language_info": {
   "codemirror_mode": {
    "name": "ipython",
    "version": 3
   },
   "file_extension": ".py",
   "mimetype": "text/x-python",
   "name": "python",
   "nbconvert_exporter": "python",
   "pygments_lexer": "ipython3",
   "version": "3.9.7"
  }
 },
 "nbformat": 4,
 "nbformat_minor": 5
}
